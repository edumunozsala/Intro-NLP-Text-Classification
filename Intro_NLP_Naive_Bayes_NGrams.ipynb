{
 "cells": [
  {
   "cell_type": "markdown",
   "metadata": {},
   "source": [
    "# Introduction to NLP: Traditional approaches\n",
    "\n",
    "# Naives Bayes and N-Grams for Text classification\n",
    "\n",
    "The purpose of this notebook is to cover Naive Bayes and ngrams (some pretty classic techniques!) for text classification. We will be using some popular libraries like sklearn but we will implement some operation \"manually\", not using an existing package for educational purpose. *I will review and follow part of the exceptional NLP course by Rachel Thomas in Fastai, and most lines of code has been extracted or adapted from its notebook 3* (the link is down there) and 3b.\n",
    "\n",
    "As in previous notebooks, this is a text classifier to identify fake tweets relatives to disasters. But we are not interested in the best model, we want to show you some traditional \"tools\" and methods to solve this kind of NLP problems and explain the concepts around them. \n",
    "\n",
    "Link to problem description in Kaggle: \n",
    "\n",
    "Link to code:\n",
    "- https://github.com/fastai/course-nlp/blob/master/3-logreg-nb-imdb.ipynb\n",
    "- https://github.com/lazyprogrammer/machine_learning_examples/blob/master/nlp_class/spam2.py\n",
    "\n",
    "Link to blog post or aditional readings:\n",
    "- https://sebastianraschka.com/Articles/2014_naive_bayes_1.html\n",
    "- https://web.stanford.edu/class/cs124/lec/naivebayes.pdf\n"
   ]
  },
  {
   "cell_type": "markdown",
   "metadata": {},
   "source": [
    "## Loading the libraries"
   ]
  },
  {
   "cell_type": "code",
   "execution_count": 33,
   "metadata": {},
   "outputs": [],
   "source": [
    "import pandas as pd\n",
    "import numpy as np\n",
    "import os\n",
    "import matplotlib.pyplot as plt\n",
    "#import seaborn as sn\n",
    "from collections import Counter\n",
    "\n",
    "%matplotlib inline\n",
    "\n",
    "# Just once\n",
    "#import nltk\n",
    "#nltk.download('wordnet')\n",
    "# Import the lemmatizer and the tokenizdr\n",
    "from nltk.stem import WordNetLemmatizer\n",
    "from nltk.tokenize import word_tokenize\n",
    "# Import module to work with sparse matrixes\n",
    "from scipy.sparse import csr_matrix\n",
    "\n",
    "from sklearn.model_selection import train_test_split\n",
    "\n",
    "from sklearn.metrics import confusion_matrix,accuracy_score,roc_auc_score,roc_curve,auc\n",
    "from wordcloud import WordCloud"
   ]
  },
  {
   "cell_type": "markdown",
   "metadata": {},
   "source": [
    "We set the variables for data location"
   ]
  },
  {
   "cell_type": "code",
   "execution_count": 2,
   "metadata": {},
   "outputs": [],
   "source": [
    "# Global parameters relatives to file location and names\n",
    "#root folder\n",
    "root_folder='.'\n",
    "#data_folder='.'\n",
    "data_folder_name='.'\n",
    "train_filename='train.csv'\n",
    "# Variable for data directory\n",
    "DATA_PATH = os.path.abspath(os.path.join(root_folder, data_folder_name))\n",
    "\n",
    "# Both train and test set are in the root data directory\n",
    "train_path = DATA_PATH\n",
    "test_path = DATA_PATH\n",
    "\n",
    "#Relevant columns\n",
    "TEXT_COLUMN = 'text'\n",
    "TARGET_COLUMN = 'target'\n"
   ]
  },
  {
   "cell_type": "markdown",
   "metadata": {},
   "source": [
    "### Loading the datasets\n",
    "\n",
    "This notebook does not cover how to implement the best preprocessor to clean our tweets. So we are going to feed our model with the tweet as is or only removing no alphanumeric characters. For a better results, we should inspect the tweets and apply some cleaning removing useless words, mispelling words, maybe the URIs,... "
   ]
  },
  {
   "cell_type": "code",
   "execution_count": 3,
   "metadata": {},
   "outputs": [
    {
     "data": {
      "text/html": [
       "<div>\n",
       "<style scoped>\n",
       "    .dataframe tbody tr th:only-of-type {\n",
       "        vertical-align: middle;\n",
       "    }\n",
       "\n",
       "    .dataframe tbody tr th {\n",
       "        vertical-align: top;\n",
       "    }\n",
       "\n",
       "    .dataframe thead th {\n",
       "        text-align: right;\n",
       "    }\n",
       "</style>\n",
       "<table border=\"1\" class=\"dataframe\">\n",
       "  <thead>\n",
       "    <tr style=\"text-align: right;\">\n",
       "      <th></th>\n",
       "      <th>id</th>\n",
       "      <th>keyword</th>\n",
       "      <th>location</th>\n",
       "      <th>text</th>\n",
       "      <th>target</th>\n",
       "    </tr>\n",
       "  </thead>\n",
       "  <tbody>\n",
       "    <tr>\n",
       "      <th>0</th>\n",
       "      <td>1</td>\n",
       "      <td>NaN</td>\n",
       "      <td>NaN</td>\n",
       "      <td>Our Deeds are the Reason of this #earthquake M...</td>\n",
       "      <td>1</td>\n",
       "    </tr>\n",
       "    <tr>\n",
       "      <th>1</th>\n",
       "      <td>4</td>\n",
       "      <td>NaN</td>\n",
       "      <td>NaN</td>\n",
       "      <td>Forest fire near La Ronge Sask. Canada</td>\n",
       "      <td>1</td>\n",
       "    </tr>\n",
       "    <tr>\n",
       "      <th>2</th>\n",
       "      <td>5</td>\n",
       "      <td>NaN</td>\n",
       "      <td>NaN</td>\n",
       "      <td>All residents asked to 'shelter in place' are ...</td>\n",
       "      <td>1</td>\n",
       "    </tr>\n",
       "    <tr>\n",
       "      <th>3</th>\n",
       "      <td>6</td>\n",
       "      <td>NaN</td>\n",
       "      <td>NaN</td>\n",
       "      <td>13,000 people receive #wildfires evacuation or...</td>\n",
       "      <td>1</td>\n",
       "    </tr>\n",
       "    <tr>\n",
       "      <th>4</th>\n",
       "      <td>7</td>\n",
       "      <td>NaN</td>\n",
       "      <td>NaN</td>\n",
       "      <td>Just got sent this photo from Ruby #Alaska as ...</td>\n",
       "      <td>1</td>\n",
       "    </tr>\n",
       "  </tbody>\n",
       "</table>\n",
       "</div>"
      ],
      "text/plain": [
       "   id keyword location                                               text  \\\n",
       "0   1     NaN      NaN  Our Deeds are the Reason of this #earthquake M...   \n",
       "1   4     NaN      NaN             Forest fire near La Ronge Sask. Canada   \n",
       "2   5     NaN      NaN  All residents asked to 'shelter in place' are ...   \n",
       "3   6     NaN      NaN  13,000 people receive #wildfires evacuation or...   \n",
       "4   7     NaN      NaN  Just got sent this photo from Ruby #Alaska as ...   \n",
       "\n",
       "   target  \n",
       "0       1  \n",
       "1       1  \n",
       "2       1  \n",
       "3       1  \n",
       "4       1  "
      ]
     },
     "execution_count": 3,
     "metadata": {},
     "output_type": "execute_result"
    }
   ],
   "source": [
    "#Read the tweets of our train dataset\n",
    "data = pd.read_csv(train_path+'\\\\'+train_filename)\n",
    "data.head()"
   ]
  },
  {
   "cell_type": "code",
   "execution_count": 4,
   "metadata": {},
   "outputs": [
    {
     "data": {
      "text/html": [
       "<div>\n",
       "<style scoped>\n",
       "    .dataframe tbody tr th:only-of-type {\n",
       "        vertical-align: middle;\n",
       "    }\n",
       "\n",
       "    .dataframe tbody tr th {\n",
       "        vertical-align: top;\n",
       "    }\n",
       "\n",
       "    .dataframe thead th {\n",
       "        text-align: right;\n",
       "    }\n",
       "</style>\n",
       "<table border=\"1\" class=\"dataframe\">\n",
       "  <thead>\n",
       "    <tr style=\"text-align: right;\">\n",
       "      <th></th>\n",
       "      <th>text</th>\n",
       "      <th>target</th>\n",
       "    </tr>\n",
       "  </thead>\n",
       "  <tbody>\n",
       "    <tr>\n",
       "      <th>0</th>\n",
       "      <td>Our Deeds are the Reason of this #earthquake M...</td>\n",
       "      <td>1</td>\n",
       "    </tr>\n",
       "    <tr>\n",
       "      <th>1</th>\n",
       "      <td>Forest fire near La Ronge Sask. Canada</td>\n",
       "      <td>1</td>\n",
       "    </tr>\n",
       "    <tr>\n",
       "      <th>2</th>\n",
       "      <td>All residents asked to 'shelter in place' are ...</td>\n",
       "      <td>1</td>\n",
       "    </tr>\n",
       "    <tr>\n",
       "      <th>3</th>\n",
       "      <td>13,000 people receive #wildfires evacuation or...</td>\n",
       "      <td>1</td>\n",
       "    </tr>\n",
       "    <tr>\n",
       "      <th>4</th>\n",
       "      <td>Just got sent this photo from Ruby #Alaska as ...</td>\n",
       "      <td>1</td>\n",
       "    </tr>\n",
       "  </tbody>\n",
       "</table>\n",
       "</div>"
      ],
      "text/plain": [
       "                                                text  target\n",
       "0  Our Deeds are the Reason of this #earthquake M...       1\n",
       "1             Forest fire near La Ronge Sask. Canada       1\n",
       "2  All residents asked to 'shelter in place' are ...       1\n",
       "3  13,000 people receive #wildfires evacuation or...       1\n",
       "4  Just got sent this photo from Ruby #Alaska as ...       1"
      ]
     },
     "execution_count": 4,
     "metadata": {},
     "output_type": "execute_result"
    }
   ],
   "source": [
    "#Extract only the text and target columns from our dataframe\n",
    "data = data[[TEXT_COLUMN, TARGET_COLUMN]]\n",
    "data.head()"
   ]
  },
  {
   "cell_type": "markdown",
   "metadata": {},
   "source": [
    "## Prepare the data to be used in our model\n",
    "\n",
    "This notebook does not cover how to implement the best preprocessor to clean our tweets. So we are going to feed our model with the tweet as is or only removing no alphanumeric characters.\n",
    "\n",
    "We split the train dataset into a train and validation dataset so we can evaluate the result and apply tricks like cross-validation. This job is done as in many others notebooks, using sklearn. "
   ]
  },
  {
   "cell_type": "code",
   "execution_count": 5,
   "metadata": {},
   "outputs": [
    {
     "name": "stdout",
     "output_type": "stream",
     "text": [
      "X Train Size: (6090,)\n",
      "X Test Size: (1523,)\n"
     ]
    }
   ],
   "source": [
    "# Split the dataset into a train and test dataset\n",
    "X_train, X_test, y_train, y_test = train_test_split(data[TEXT_COLUMN], data[TARGET_COLUMN].values, \n",
    "                                                    test_size=0.20, random_state=0)\n",
    "\n",
    "print('X Train Size:',X_train.shape)\n",
    "print('X Test Size:',X_test.shape)"
   ]
  },
  {
   "cell_type": "markdown",
   "metadata": {},
   "source": [
    "First, we show some tweets."
   ]
  },
  {
   "cell_type": "code",
   "execution_count": 6,
   "metadata": {},
   "outputs": [
    {
     "name": "stdout",
     "output_type": "stream",
     "text": [
      "Ted Cruz fires back at Jeb &amp; Bush: ÛÏWe lose because of Republicans like Jeb &amp; Mitt.Û [Video] http://t.co/FgDEh56PLO\n",
      "This is the first year the Forest Service spent more than half its annual budget on fighting fires. #climatechange http://t.co/D62zfZy0Mi\n",
      "@lightseraphs pissed at you and could have their pikachu electrocute you and :\\\\\\\n",
      "I'm gonna fight Taylor as soon as I get there.\n",
      "@NicolaClements4 IÛªm not sure that covering my head in wounds and scabs is the solution ;)\n",
      "kabwandi_: Breaking news! Unconfirmed! I just heard a loud bang nearby. in what appears to be a blast of wind from my neighbour's ass.\n",
      "The annihilation of Jeb Christie &amp; Kasich is less than 24 hours away..\n",
      "Please God allow me at least one more full day...\n",
      "Wtf this mom just drowned her child?!\n",
      "@MayorofLondon pls reduce cyclist deaths with a compulsory highway code test as with EVERY OTHER VEHICLE that uses a road. #notrocketscience\n",
      "@DoctorDryadma mass murder here we come\n"
     ]
    }
   ],
   "source": [
    "for doc in X_train[:10]:\n",
    "    print(doc)"
   ]
  },
  {
   "cell_type": "markdown",
   "metadata": {},
   "source": [
    "## Extracting the tokens from our text data\n",
    "\n",
    "- **What is lemmatizer?**\n",
    "For grammatical reasons, documents are going to use different forms of a word and there are families of derivationally related words with similar meanings, such as democracy, democratic, and democratization. In many situations, it seems as if it would be useful for a search for one of these words to return documents that contain another word in the set. So we can obtain a shorter vocabulary if we use the root \"meaning\" or word of these groups of word. Lemmatization and Stemming are two techniques to get the root word, but steemming is so crude and usually returns word with no meaning. Lemmatization is usually a better aproach.\n",
    "\n",
    "We are going to use a very shor list of **Stop Words**. Stop words are generally the most common words in a language and they do not provide useful information about the context so we can remove them.\n",
    "- **Use of stopwords**\n",
    "\n",
    "Now it is time to convert a collection of text documents (our tweets) to a matrix of token/word counts. f you do not provide an a-priori dictionary and you do not use an analyzer that does some kind of feature selection then the number of features will be equal to the vocabulary size found by analyzing the data.\n"
   ]
  },
  {
   "cell_type": "code",
   "execution_count": 7,
   "metadata": {},
   "outputs": [],
   "source": [
    "# Define the stopword list and create a Lemmatizer object\n",
    "wordnet_lemmatizer = WordNetLemmatizer()\n",
    "# Define the stop words extracted from a file with only 20-30 words to remove \n",
    "stopwords = set(w.rstrip() for w in open('NLP_short_stopwords.txt'))"
   ]
  },
  {
   "cell_type": "markdown",
   "metadata": {},
   "source": [
    "Our tokenizer is very simple, apply lowercase to the text, remove very short words, lematize the words and finally remove the stopwords. As we said, we are not coding an expert parser for tweets.  "
   ]
  },
  {
   "cell_type": "code",
   "execution_count": 8,
   "metadata": {},
   "outputs": [],
   "source": [
    "def my_tokenizer(s):\n",
    "    s = s.lower() # downcase\n",
    "    tokens = word_tokenize(s) # split string into words (tokens)\n",
    "    tokens = [t for t in tokens if len(t) > 2] # remove short words, they're probably not useful\n",
    "    tokens = [wordnet_lemmatizer.lemmatize(t) for t in tokens] # put words into base form\n",
    "    tokens = [t for t in tokens if t not in stopwords] # remove stopwords\n",
    "    return tokens\n"
   ]
  },
  {
   "cell_type": "markdown",
   "metadata": {},
   "source": [
    "### Convert to tokens and create the vocabulary\n",
    "\n",
    "First we need to create our vocabulary, the list of words/tokens we are expecting in our sentences. We tokenize all the tweets, save all the tokens and include them (not repeted) in the vocabulary. Our vocabulary is based on the train set (it is supossed that the test set is just for testing our model we do not know anything about it). But there would be probably new \"tokens\" in our test set (or in a future test text) so we include a token for \"unknown\" words, every new word will be replaced by this token. "
   ]
  },
  {
   "cell_type": "code",
   "execution_count": 9,
   "metadata": {},
   "outputs": [
    {
     "name": "stdout",
     "output_type": "stream",
     "text": [
      "Vocabulary:  18434\n"
     ]
    }
   ],
   "source": [
    "#We need to create our vocabulary. We tokenize every document, collect the tokens and extract the vocabulary.\n",
    "all_tokens=[]\n",
    "tokens=set()\n",
    "for doc in X_train:\n",
    "    # Extract tokens in doc\n",
    "    doc_tokens=my_tokenizer(doc)\n",
    "    # Store the tokens in two lists\n",
    "    all_tokens.append(doc_tokens)\n",
    "    tokens.update(set(doc_tokens))\n",
    "\n",
    "# Create our dictionary or vocabulary to convert string/token to int\n",
    "vocab={k:v for v, k in enumerate(tokens)}\n",
    "# Add the token unknown to the dictionary\n",
    "vocab['xxUNKxx']=len(vocab)\n",
    "print('Vocabulary: ',len(vocab))"
   ]
  },
  {
   "cell_type": "markdown",
   "metadata": {},
   "source": [
    "### Create the term document matrix of our train and test data\n",
    "\n",
    "Now we will create our own version of the Term Document Matrix. This is for two reasons:\n",
    "- to understand what sklearn is doing underneath the hood\n",
    "- to create something that will work with a fastai TextList\n",
    "\n",
    "To create our term-document matrix, we will use counters and sparse matrices."
   ]
  },
  {
   "cell_type": "code",
   "execution_count": 10,
   "metadata": {},
   "outputs": [],
   "source": [
    "#Create the term document matrix. We are not going to use any package, just pass through the text and build our matrix.\n",
    "def get_term_doc_matrix(documents,vocab):\n",
    "    ''' Create and return the Term Document Matriz based on the documents and words provided as arguments'''\n",
    "    j_indices = []\n",
    "    indptr = []\n",
    "    values = []\n",
    "    indptr.append(0)\n",
    "\n",
    "    for doc in documents:\n",
    "        tokenstoi = [vocab[t] for t in doc]\n",
    "        feature_counter = Counter(tokenstoi)\n",
    "        j_indices.extend(feature_counter.keys())\n",
    "        values.extend(feature_counter.values())\n",
    "        indptr.append(len(j_indices))\n",
    "    \n",
    "    \n",
    "     # for debugging purpose              \n",
    "    #return (values, j_indices, indptr)\n",
    "    return csr_matrix((values, j_indices, indptr),\n",
    "                                    shape=(len(indptr) - 1, len(vocab)),\n",
    "                                    dtype=int)"
   ]
  },
  {
   "cell_type": "code",
   "execution_count": 11,
   "metadata": {},
   "outputs": [],
   "source": [
    "# Generate the Text Document Matrix\n",
    "#v,j,i = get_term_doc_matrix(all_tokens,vocab)\n",
    "trn_term_doc  = get_term_doc_matrix(all_tokens,vocab)"
   ]
  },
  {
   "cell_type": "code",
   "execution_count": 12,
   "metadata": {},
   "outputs": [
    {
     "data": {
      "text/plain": [
       "(6090, 18434)"
      ]
     },
     "execution_count": 12,
     "metadata": {},
     "output_type": "execute_result"
    }
   ],
   "source": [
    "trn_term_doc.shape"
   ]
  },
  {
   "cell_type": "markdown",
   "metadata": {},
   "source": [
    "For the test dataset we need to check if the token is in the vocab, if not we replace it by the especial token for unknown words."
   ]
  },
  {
   "cell_type": "code",
   "execution_count": 13,
   "metadata": {},
   "outputs": [],
   "source": [
    "all_tokens=[]\n",
    "\n",
    "for doc in X_test:\n",
    "    doc_tokens=my_tokenizer(doc)\n",
    "    all_tokens.append([t if t in vocab else 'xxUNKxx' for t in doc_tokens])\n"
   ]
  },
  {
   "cell_type": "code",
   "execution_count": 14,
   "metadata": {},
   "outputs": [],
   "source": [
    "val_term_doc  = get_term_doc_matrix(all_tokens,vocab)"
   ]
  },
  {
   "cell_type": "code",
   "execution_count": 15,
   "metadata": {},
   "outputs": [
    {
     "data": {
      "text/plain": [
       "(1523, 18434)"
      ]
     },
     "execution_count": 15,
     "metadata": {},
     "output_type": "execute_result"
    }
   ],
   "source": [
    "val_term_doc.shape"
   ]
  },
  {
   "cell_type": "markdown",
   "metadata": {},
   "source": [
    "## Naive Bayes\n",
    "\n",
    "Naive Bayes classifiers, a family of classifiers that are based on the popular Bayes’ probability theorem, are known for creating simple yet well performing models, especially in the fields of document classification and disease prediction. The probabilistic model of naive Bayes classifiers is based on Bayes’ theorem, and the adjective naive comes from the assumption that the features in a dataset are mutually independent. In practice, the independence assumption is often violated, but naive Bayes classifiers still tend to perform very well under this unrealistic assumption [1]. Especially for small sample sizes, naive Bayes classifiers can outperform the more powerful alternatives.\n",
    "\n",
    "Bayes’ rule can be written down in simple words as follows:\n",
    "\n",
    "$posterior probability = \\frac{\\text{conditional probability}⋅\\text{prior probability}}{\\text{evidence}}$\n",
    "\n",
    "In the context of pattern classification, the prior probabilities are also called class priors, which describe “the general probability of encountering a particular class.” In our case , the priors could be formulated as\n",
    "\n",
    "$P(fake)=\"\\text{the probability that any new message is a fake message}\"$ and $P(real)=1−P(fake)$\n",
    "\n",
    "And in context of text classification:\n",
    "\n",
    "$P(fake) = \\frac{\\text{# of fake messages in training data}}{\\text{# of all messages in training data}}$\n",
    "\n",
    "For numerical stability purpose, we’re going to look at the log probability by taking the log of each side. Now we’re dealing with additions of log probabilities instead of multiplying many probabilities together! Since log has really nice properties (monotonicity being the key one), we can still take the highest score to be our prediction, i.e., we don’t have to “undo” the log!\n",
    "\n",
    "**Explain**\n",
    "\n",
    "We define the log-count ratio $r$ for each word $f$:\n",
    "\n",
    "$r = \\log \\frac{\\text{ratio of feature $f$ in positive documents}}{\\text{ratio of feature $f$ in negative documents}}$\n",
    "\n",
    "where ratio of feature $f$ in positive documents is the number of times a positive document has a feature divided by the number of positive documents."
   ]
  },
  {
   "cell_type": "code",
   "execution_count": 16,
   "metadata": {},
   "outputs": [],
   "source": [
    "# x is the term document matrix\n",
    "x = trn_term_doc\n",
    "# y is the target label\n",
    "y = y_train\n",
    "val_y = y_test"
   ]
  },
  {
   "cell_type": "code",
   "execution_count": 17,
   "metadata": {},
   "outputs": [],
   "source": [
    "p1 = np.squeeze(np.asarray(x[y_train==1].sum(0)))\n",
    "p0 = np.squeeze(np.asarray(x[y_train==0].sum(0)))"
   ]
  },
  {
   "cell_type": "code",
   "execution_count": 18,
   "metadata": {},
   "outputs": [
    {
     "name": "stdout",
     "output_type": "stream",
     "text": [
      "(2634, 18434)\n",
      "(3456, 18434)\n"
     ]
    }
   ],
   "source": [
    "print(x[y_train==1].shape)\n",
    "print(x[y_train==0].shape)"
   ]
  },
  {
   "cell_type": "code",
   "execution_count": 19,
   "metadata": {},
   "outputs": [
    {
     "data": {
      "text/plain": [
       "array([ 4,  0,  0,  0,  0,  0,  1,  0,  1,  2,  1,  0,  0,  1,  1,  0,  1,\n",
       "       16,  2,  1,  1,  2,  0,  0,  1,  0,  1,  1,  4,  1,  1,  1,  1,  0,\n",
       "        0,  0,  1, 11,  2,  2,  0,  1,  0,  0,  1,  0,  1,  1,  0,  0],\n",
       "      dtype=int32)"
      ]
     },
     "execution_count": 19,
     "metadata": {},
     "output_type": "execute_result"
    }
   ],
   "source": [
    "p1[:50]"
   ]
  },
  {
   "cell_type": "markdown",
   "metadata": {},
   "source": [
    "In order to avoid the problem of zero probabilities or division by zero, an additional smoothing term can be added to the  Bayes model. The most common variants of additive smoothing are the so-called Lidstone smoothing (α<1) and Laplace smoothing (α=1). So, we add 1 to the numerator and denominator."
   ]
  },
  {
   "cell_type": "code",
   "execution_count": 20,
   "metadata": {},
   "outputs": [],
   "source": [
    "pr1 = (p1+1) / ((y_train==1).sum() + 1)\n",
    "pr0 = (p0+1) / ((y_train==0).sum() + 1)"
   ]
  },
  {
   "cell_type": "code",
   "execution_count": 21,
   "metadata": {},
   "outputs": [
    {
     "data": {
      "text/plain": [
       "array([ 1.88095589, -0.4216292 , -0.4216292 , ..., -0.90713702,\n",
       "        0.96466516,  0.27151798])"
      ]
     },
     "execution_count": 21,
     "metadata": {},
     "output_type": "execute_result"
    }
   ],
   "source": [
    "r = np.log(pr1/pr0)\n",
    "r"
   ]
  },
  {
   "cell_type": "markdown",
   "metadata": {},
   "source": [
    "**Vocab most likely associated with positive/negative reviews**\n",
    "\n",
    "In the next cells we will observe the vocabulary in the most positive and negative tweets."
   ]
  },
  {
   "cell_type": "code",
   "execution_count": 22,
   "metadata": {},
   "outputs": [],
   "source": [
    "biggest = np.argpartition(r, -10)[-10:]\n",
    "smallest = np.argpartition(r, 10)[:10]"
   ]
  },
  {
   "cell_type": "code",
   "execution_count": 24,
   "metadata": {},
   "outputs": [
    {
     "data": {
      "text/plain": [
       "['derailment',\n",
       " 'investigator',\n",
       " 'debris',\n",
       " 'hiroshima',\n",
       " 'migrant',\n",
       " 'northern',\n",
       " 'legionnaire',\n",
       " 'mh370',\n",
       " 'severe',\n",
       " 'malaysia']"
      ]
     },
     "execution_count": 24,
     "metadata": {},
     "output_type": "execute_result"
    }
   ],
   "source": [
    "[list(vocab.keys())[list(vocab.values()).index(k)] for k in biggest]"
   ]
  },
  {
   "cell_type": "code",
   "execution_count": 25,
   "metadata": {},
   "outputs": [
    {
     "data": {
      "text/plain": [
       "['mayhem',\n",
       " 'bag',\n",
       " 'cat',\n",
       " 'career',\n",
       " 'ruin',\n",
       " 'disney',\n",
       " 'ebay',\n",
       " 'lmao',\n",
       " 'character',\n",
       " 'crushed']"
      ]
     },
     "execution_count": 25,
     "metadata": {},
     "output_type": "execute_result"
    }
   ],
   "source": [
    "[list(vocab.keys())[list(vocab.values()).index(k)] for k in smallest]"
   ]
  },
  {
   "cell_type": "markdown",
   "metadata": {},
   "source": [
    "## Applying Naives Bayes\n",
    "\n",
    "Now we can apply the \n"
   ]
  },
  {
   "cell_type": "code",
   "execution_count": 26,
   "metadata": {},
   "outputs": [
    {
     "data": {
      "text/plain": [
       "(0.432512315270936, 0.5674876847290641)"
      ]
     },
     "execution_count": 26,
     "metadata": {},
     "output_type": "execute_result"
    }
   ],
   "source": [
    "(y_train==1).mean(), (y_train==0).mean()"
   ]
  },
  {
   "cell_type": "code",
   "execution_count": 27,
   "metadata": {},
   "outputs": [],
   "source": [
    "b = np.log((y_train==1).mean() / (y_train==0).mean())"
   ]
  },
  {
   "cell_type": "code",
   "execution_count": 28,
   "metadata": {},
   "outputs": [],
   "source": [
    "y_pred = (val_term_doc @ r + b) > 0"
   ]
  },
  {
   "cell_type": "code",
   "execution_count": 29,
   "metadata": {},
   "outputs": [
    {
     "data": {
      "text/plain": [
       "0.7636244254760342"
      ]
     },
     "execution_count": 29,
     "metadata": {},
     "output_type": "execute_result"
    }
   ],
   "source": [
    "(y_pred==y_test).mean()"
   ]
  },
  {
   "cell_type": "markdown",
   "metadata": {},
   "source": [
    "## Evaluating the model"
   ]
  },
  {
   "cell_type": "code",
   "execution_count": 30,
   "metadata": {},
   "outputs": [
    {
     "name": "stdout",
     "output_type": "stream",
     "text": [
      "Confusion Matrix:  [[650 236]\n",
      " [124 513]]\n",
      "Accuracy:  0.7636244254760342\n"
     ]
    }
   ],
   "source": [
    "# Predicting the Test set results\n",
    "#y_pred = model.predict(test)\n",
    "\n",
    "# Making the Confusion Matrix\n",
    "from sklearn.metrics import confusion_matrix,accuracy_score,roc_auc_score,roc_curve,auc\n",
    "cm = confusion_matrix(y_test, y_pred)\n",
    "print('Confusion Matrix: ',cm)\n",
    "# Calculate the accuracy\n",
    "acc = accuracy_score(y_test, y_pred)\n",
    "print('Accuracy: ',acc)\n",
    "# Calculate the points in the ROC curve\n",
    "fpr, tpr, thresholds = roc_curve(y_test, y_pred, pos_label=1)\n",
    "roc_auc= auc(fpr,tpr)"
   ]
  },
  {
   "cell_type": "code",
   "execution_count": 31,
   "metadata": {},
   "outputs": [
    {
     "data": {
      "text/plain": [
       "<matplotlib.axes._subplots.AxesSubplot at 0x1ed0cb5a390>"
      ]
     },
     "execution_count": 31,
     "metadata": {},
     "output_type": "execute_result"
    },
    {
     "data": {
      "image/png": "[encoded data removed]",
      "text/plain": [
       "<Figure size 432x288 with 2 Axes>"
      ]
     },
     "metadata": {},
     "output_type": "display_data"
    }
   ],
   "source": [
    "import seaborn as sn\n",
    "# Create a dataframe with the confussion matrix values\n",
    "df_cm = pd.DataFrame(cm, range(cm.shape[0]),\n",
    "                  range(cm.shape[1]))\n",
    "# Plot the confussion matrix\n",
    "#plt.figure(figsize = (10,7))\n",
    "sn.set(font_scale=1.4) #for label size\n",
    "sn.heatmap(df_cm, annot=True,fmt='.0f',annot_kws={\"size\": 10})# font size"
   ]
  },
  {
   "cell_type": "code",
   "execution_count": 34,
   "metadata": {},
   "outputs": [
    {
     "data": {
      "image/png": "[encoded data removed]",
      "text/plain": [
       "<Figure size 432x288 with 1 Axes>"
      ]
     },
     "metadata": {
      "needs_background": "light"
     },
     "output_type": "display_data"
    }
   ],
   "source": [
    "# ROC Curve\n",
    "# plot no skill\n",
    "plt.title('Receiver Operating Characteristic')\n",
    "plt.plot(fpr, tpr, 'b', label = 'AUC = %0.2f' % roc_auc)\n",
    "plt.legend(loc = 'lower right')\n",
    "plt.plot([0, 1], [0, 1],'r--')\n",
    "plt.xlim([0, 1])\n",
    "plt.ylim([0, 1])\n",
    "plt.ylabel('True Positive Rate')\n",
    "plt.xlabel('False Positive Rate')\n",
    "plt.show()\n"
   ]
  },
  {
   "cell_type": "markdown",
   "metadata": {},
   "source": [
    "### Data exploration: negative to positive ratios\n",
    "I was curious about the ratio of times a given word appears in negative reviews to times it occurs in positive reviews. Bigger ratios (> 1) mean the word is indicative of a negative review, and smaller ratios (< 1) mean it is indicative of a positive review."
   ]
  },
  {
   "cell_type": "code",
   "execution_count": 42,
   "metadata": {},
   "outputs": [],
   "source": [
    "def neg_pos_given_word(word):\n",
    "    print(p0[vocab[word]]/p1[vocab[word]])"
   ]
  },
  {
   "cell_type": "code",
   "execution_count": 46,
   "metadata": {},
   "outputs": [
    {
     "name": "stdout",
     "output_type": "stream",
     "text": [
      "2.75\n"
     ]
    }
   ],
   "source": [
    "neg_pos_given_word('real')"
   ]
  },
  {
   "cell_type": "markdown",
   "metadata": {},
   "source": [
    "### Binarized Naive Bayes\n",
    "Maybe it only matters whether a word is in the review or not (not the frequency of the word). So instead of the frequency of a token our term-document matrix will only contain 1 or 0 as values. This step simplifies the model and sometimes it can produce a better result."
   ]
  },
  {
   "cell_type": "code",
   "execution_count": 35,
   "metadata": {},
   "outputs": [],
   "source": [
    "# Create a term document matrix binarized, containing only 1 or 0 values if the word is in the text\n",
    "x=trn_term_doc.sign()\n",
    "y=y_train"
   ]
  },
  {
   "cell_type": "code",
   "execution_count": 36,
   "metadata": {},
   "outputs": [
    {
     "data": {
      "text/plain": [
       "matrix([[0, 0, 0, ..., 0, 0, 0],\n",
       "        [0, 0, 0, ..., 0, 0, 0],\n",
       "        [0, 0, 0, ..., 0, 0, 0],\n",
       "        ...,\n",
       "        [0, 0, 0, ..., 0, 0, 0],\n",
       "        [0, 0, 0, ..., 0, 0, 0],\n",
       "        [0, 0, 0, ..., 0, 0, 0]])"
      ]
     },
     "execution_count": 36,
     "metadata": {},
     "output_type": "execute_result"
    }
   ],
   "source": [
    "x.todense()[:50,:50]"
   ]
  },
  {
   "cell_type": "markdown",
   "metadata": {},
   "source": [
    "Repeat the same steps as before but using the binarized term document matrix"
   ]
  },
  {
   "cell_type": "code",
   "execution_count": 39,
   "metadata": {},
   "outputs": [],
   "source": [
    "p1 = np.squeeze(np.asarray(x[y_train==1].sum(0)))\n",
    "p0 = np.squeeze(np.asarray(x[y_train==0].sum(0)))\n",
    "\n",
    "pr1 = (p1+1) / ((y_train==1).sum() + 1)\n",
    "pr0 = (p0+1) / ((y_train==0).sum() + 1)\n",
    "\n",
    "r = np.log(pr1/pr0)\n",
    "b = np.log((y_train==1).mean() / (y_train==0).mean())\n",
    "\n",
    "preds = (val_term_doc.sign() @ r + b) > 0"
   ]
  },
  {
   "cell_type": "code",
   "execution_count": 40,
   "metadata": {},
   "outputs": [
    {
     "data": {
      "text/plain": [
       "0.7760998030203545"
      ]
     },
     "execution_count": 40,
     "metadata": {},
     "output_type": "execute_result"
    }
   ],
   "source": [
    "(preds==val_y).mean()"
   ]
  },
  {
   "cell_type": "markdown",
   "metadata": {},
   "source": [
    "we get a very litle improvement, now we can use some other machine learning algos to help us to improve our model."
   ]
  },
  {
   "cell_type": "markdown",
   "metadata": {},
   "source": [
    "## Logistic regression\n",
    "Here is how we can fit logistic regression where the features are the **unigrams**."
   ]
  },
  {
   "cell_type": "code",
   "execution_count": 41,
   "metadata": {},
   "outputs": [],
   "source": [
    "from sklearn.linear_model import LogisticRegression"
   ]
  },
  {
   "cell_type": "code",
   "execution_count": 42,
   "metadata": {},
   "outputs": [
    {
     "name": "stderr",
     "output_type": "stream",
     "text": [
      "C:\\Users\\edumu\\Anaconda3\\lib\\site-packages\\sklearn\\linear_model\\logistic.py:432: FutureWarning: Default solver will be changed to 'lbfgs' in 0.22. Specify a solver to silence this warning.\n",
      "  FutureWarning)\n"
     ]
    },
    {
     "data": {
      "text/plain": [
       "0.8076165462902167"
      ]
     },
     "execution_count": 42,
     "metadata": {},
     "output_type": "execute_result"
    }
   ],
   "source": [
    "m = LogisticRegression(C=0.1, dual=True)\n",
    "m.fit(x, y)\n",
    "preds = m.predict(val_term_doc)\n",
    "(preds==y_test).mean()"
   ]
  },
  {
   "cell_type": "markdown",
   "metadata": {},
   "source": [
    "We got an accuracy of 80% using Logistic Regression on the unigrams of our Naives Bayes approach."
   ]
  },
  {
   "cell_type": "markdown",
   "metadata": {},
   "source": [
    "## Trigrams with NB features\n",
    "Our next model is a version of logistic regression with Naive Bayes features described here. For every document we compute binarized features as described above, but this time we use bigrams and trigrams too. Each feature is a log-count ratio. A logistic regression model is then trained to predict if it is real or fake.\n",
    "\n",
    "### ngrams\n",
    "An n-gram is a contiguous sequence of n items (where the items can be characters, syllables, or words). A 1-gram is a unigram, a 2-gram is a bigram, and a 3-gram is a trigram.\n",
    "\n",
    "Here, we are referring to sequences of words. So examples of bigrams include \"the dog\", \"said that\", and \"can't you\"."
   ]
  },
  {
   "cell_type": "code",
   "execution_count": 56,
   "metadata": {},
   "outputs": [],
   "source": [
    "min_n=1\n",
    "max_n=3\n",
    "\n",
    "j_indices = []\n",
    "indptr = []\n",
    "values = []\n",
    "indptr.append(0)\n",
    "num_tokens = len(vocab)\n",
    "\n",
    "itongram = dict()\n",
    "ngramtoi = dict()\n",
    "\n",
    "for doc in X_train:\n",
    "    doc_tokens=my_tokenizer(doc)\n",
    "    tokenstoi = [vocab[t] for t in doc_tokens]\n",
    "    feature_counter = Counter(tokenstoi)\n",
    "    j_indices.extend(feature_counter.keys())\n",
    "    values.extend(feature_counter.values())\n",
    "    this_doc_ngrams = list()\n",
    "\n",
    "    m = 0\n",
    "    for n in range(min_n, max_n + 1):\n",
    "        for k in range(len(vocab) - n + 1):\n",
    "            ngram = tokenstoi[k: k + n]\n",
    "            if str(ngram) not in ngramtoi:\n",
    "                if len(ngram)==1:\n",
    "                    num = ngram[0]\n",
    "                    ngramtoi[str(ngram)] = num\n",
    "                    itongram[num] = ngram\n",
    "                else:\n",
    "                    ngramtoi[str(ngram)] = num_tokens\n",
    "                    itongram[num_tokens] = ngram\n",
    "                    num_tokens += 1\n",
    "            this_doc_ngrams.append(ngramtoi[str(ngram)])\n",
    "            m += 1\n",
    "\n",
    "    ngram_counter = Counter(this_doc_ngrams)\n",
    "    j_indices.extend(ngram_counter.keys())\n",
    "    values.extend(ngram_counter.values())\n",
    "    indptr.append(len(j_indices))"
   ]
  },
  {
   "cell_type": "code",
   "execution_count": 58,
   "metadata": {},
   "outputs": [],
   "source": [
    "# Create the trigrams document matrix\n",
    "train_ngram_doc_matrix = csr_matrix((values, j_indices, indptr),\n",
    "                                   shape=(len(indptr) - 1, len(ngramtoi)),\n",
    "                                   dtype=int)"
   ]
  },
  {
   "cell_type": "code",
   "execution_count": 59,
   "metadata": {},
   "outputs": [
    {
     "data": {
      "text/plain": [
       "<6090x118201 sparse matrix of type '<class 'numpy.int32'>'\n",
       "\twith 268987 stored elements in Compressed Sparse Row format>"
      ]
     },
     "execution_count": 59,
     "metadata": {},
     "output_type": "execute_result"
    }
   ],
   "source": [
    "train_ngram_doc_matrix"
   ]
  },
  {
   "cell_type": "code",
   "execution_count": 60,
   "metadata": {},
   "outputs": [
    {
     "data": {
      "text/plain": [
       "(118201, 118201)"
      ]
     },
     "execution_count": 60,
     "metadata": {},
     "output_type": "execute_result"
    }
   ],
   "source": [
    "len(ngramtoi), len(itongram)"
   ]
  },
  {
   "cell_type": "code",
   "execution_count": 64,
   "metadata": {},
   "outputs": [
    {
     "name": "stdout",
     "output_type": "stream",
     "text": [
      "[17116, 2348]\n"
     ]
    },
    {
     "ename": "NameError",
     "evalue": "name 'v' is not defined",
     "output_type": "error",
     "traceback": [
      "\u001b[1;31m---------------------------------------------------------------------------\u001b[0m",
      "\u001b[1;31mNameError\u001b[0m                                 Traceback (most recent call last)",
      "\u001b[1;32m<ipython-input-64-30e1ce99a663>\u001b[0m in \u001b[0;36m<module>\u001b[1;34m\u001b[0m\n\u001b[0;32m      1\u001b[0m \u001b[0mprint\u001b[0m\u001b[1;33m(\u001b[0m\u001b[0mitongram\u001b[0m\u001b[1;33m[\u001b[0m\u001b[1;36m25000\u001b[0m\u001b[1;33m]\u001b[0m\u001b[1;33m)\u001b[0m\u001b[1;33m\u001b[0m\u001b[1;33m\u001b[0m\u001b[0m\n\u001b[1;32m----> 2\u001b[1;33m \u001b[0mv\u001b[0m\u001b[1;33m[\u001b[0m\u001b[1;36m189\u001b[0m\u001b[1;33m]\u001b[0m\u001b[1;33m,\u001b[0m \u001b[0mv\u001b[0m\u001b[1;33m[\u001b[0m\u001b[1;36m1301\u001b[0m\u001b[1;33m]\u001b[0m\u001b[1;33m\u001b[0m\u001b[1;33m\u001b[0m\u001b[0m\n\u001b[0m",
      "\u001b[1;31mNameError\u001b[0m: name 'v' is not defined"
     ]
    }
   ],
   "source": [
    "print(itongram[25000])\n",
    "print(v[189], v[1301]"
   ]
  },
  {
   "cell_type": "markdown",
   "metadata": {},
   "source": [
    "### Create valid matrix"
   ]
  },
  {
   "cell_type": "code",
   "execution_count": 66,
   "metadata": {},
   "outputs": [],
   "source": [
    "j_indices = []\n",
    "indptr = []\n",
    "values = []\n",
    "indptr.append(0)\n",
    "\n",
    "for doc in X_test:\n",
    "    doc_tokens=my_tokenizer(doc)\n",
    "    doc_tokens = [t if t in vocab else 'xxUNKxx' for t in doc_tokens]\n",
    "    tokenstoi = [vocab[t] for t in doc_tokens]\n",
    "    feature_counter = Counter(tokenstoi)\n",
    "    j_indices.extend(feature_counter.keys())\n",
    "    values.extend(feature_counter.values())\n",
    "    this_doc_ngrams = list()\n",
    "\n",
    "    m = 0\n",
    "    for n in range(min_n, max_n + 1):\n",
    "        for k in range(len(vocab) - n + 1):\n",
    "            ngram = tokenstoi[k: k + n]\n",
    "            if str(ngram) in ngramtoi:\n",
    "                this_doc_ngrams.append(ngramtoi[str(ngram)])\n",
    "            m += 1\n",
    "\n",
    "    ngram_counter = Counter(this_doc_ngrams)\n",
    "    j_indices.extend(ngram_counter.keys())\n",
    "    values.extend(ngram_counter.values())\n",
    "    indptr.append(len(j_indices))"
   ]
  },
  {
   "cell_type": "code",
   "execution_count": 67,
   "metadata": {},
   "outputs": [],
   "source": [
    "valid_ngram_doc_matrix = csr_matrix((values, j_indices, indptr),\n",
    "                                   shape=(len(indptr) - 1, len(ngramtoi)),\n",
    "                                   dtype=int)"
   ]
  },
  {
   "cell_type": "code",
   "execution_count": 68,
   "metadata": {},
   "outputs": [],
   "source": [
    "x=train_ngram_doc_matrix\n",
    "y=y_train"
   ]
  },
  {
   "cell_type": "code",
   "execution_count": 69,
   "metadata": {},
   "outputs": [
    {
     "data": {
      "text/plain": [
       "<6090x118201 sparse matrix of type '<class 'numpy.int32'>'\n",
       "\twith 268987 stored elements in Compressed Sparse Row format>"
      ]
     },
     "execution_count": 69,
     "metadata": {},
     "output_type": "execute_result"
    }
   ],
   "source": [
    "x"
   ]
  },
  {
   "cell_type": "code",
   "execution_count": 70,
   "metadata": {},
   "outputs": [],
   "source": [
    "k=118201"
   ]
  },
  {
   "cell_type": "code",
   "execution_count": 76,
   "metadata": {},
   "outputs": [],
   "source": [
    "pos = (y == 1)[:k]\n",
    "neg = (y == 0)[:k]\n",
    "xx = x[:k]"
   ]
  },
  {
   "cell_type": "code",
   "execution_count": 77,
   "metadata": {},
   "outputs": [
    {
     "data": {
      "text/plain": [
       "<6090x118201 sparse matrix of type '<class 'numpy.int32'>'\n",
       "\twith 268987 stored elements in Compressed Sparse Row format>"
      ]
     },
     "execution_count": 77,
     "metadata": {},
     "output_type": "execute_result"
    }
   ],
   "source": [
    "xx"
   ]
  },
  {
   "cell_type": "code",
   "execution_count": 79,
   "metadata": {},
   "outputs": [
    {
     "name": "stdout",
     "output_type": "stream",
     "text": [
      "b:  -0.2716082476207199\n"
     ]
    }
   ],
   "source": [
    "p0 = np.squeeze(np.array(xx[neg].sum(0)))\n",
    "p1 = np.squeeze(np.array(xx[pos].sum(0)))\n",
    "\n",
    "pr1 = (p1+1) / ((y==1).sum() + 1)\n",
    "pr0 = (p0+1) / ((y==0).sum() + 1)\n",
    "\n",
    "r = np.log(pr1/pr0)\n",
    "b = np.log((y==1).mean() / (y==0).mean())\n",
    "print('b: ',b)"
   ]
  },
  {
   "cell_type": "code",
   "execution_count": 80,
   "metadata": {},
   "outputs": [],
   "source": [
    "pre_preds = valid_ngram_doc_matrix @ r.T + b"
   ]
  },
  {
   "cell_type": "code",
   "execution_count": 81,
   "metadata": {},
   "outputs": [
    {
     "data": {
      "text/plain": [
       "array([-28.36480922,  -9.17880064,   2.03173239, ...,  13.46042239,\n",
       "       -21.65151714,   9.0190975 ])"
      ]
     },
     "execution_count": 81,
     "metadata": {},
     "output_type": "execute_result"
    }
   ],
   "source": [
    "pre_preds"
   ]
  },
  {
   "cell_type": "code",
   "execution_count": 91,
   "metadata": {},
   "outputs": [
    {
     "data": {
      "text/plain": [
       "0.8003939592908733"
      ]
     },
     "execution_count": 91,
     "metadata": {},
     "output_type": "execute_result"
    }
   ],
   "source": [
    "preds = pre_preds.T>0\n",
    "(preds == y_test).mean()"
   ]
  },
  {
   "cell_type": "markdown",
   "metadata": {},
   "source": [
    "Now the results are better, but not significant"
   ]
  },
  {
   "cell_type": "markdown",
   "metadata": {},
   "source": [
    "## Binarized Naive Bayes"
   ]
  },
  {
   "cell_type": "code",
   "execution_count": 94,
   "metadata": {},
   "outputs": [
    {
     "data": {
      "text/plain": [
       "0.7734734077478661"
      ]
     },
     "execution_count": 94,
     "metadata": {},
     "output_type": "execute_result"
    }
   ],
   "source": [
    "trn_x_ngram_sgn = train_ngram_doc_matrix.sign()\n",
    "val_x_ngram_sgn = valid_ngram_doc_matrix.sign()\n",
    "xx = trn_x_ngram_sgn[:k]\n",
    "\n",
    "p0 = np.squeeze(np.array(xx[neg].sum(0)))\n",
    "p1 = np.squeeze(np.array(xx[pos].sum(0)))\n",
    "pr1 = (p1+1) / ((y==1).sum() + 1)\n",
    "pr0 = (p0+1) / ((y==0).sum() + 1)\n",
    "r = np.log(pr1/pr0)\n",
    "b = np.log((y==1).mean() / (y==0).mean())\n",
    "\n",
    "pre_preds = val_x_ngram_sgn @ r.T + b\n",
    "preds = pre_preds.T>0\n",
    "\n",
    "(preds==y_test).mean()"
   ]
  },
  {
   "cell_type": "markdown",
   "metadata": {},
   "source": [
    "## Logistic Regression\n",
    "Here we fit logistic regression where the features are the trigrams.\n",
    "And we will use **CountVectorizer** to compare the results"
   ]
  },
  {
   "cell_type": "code",
   "execution_count": 96,
   "metadata": {},
   "outputs": [],
   "source": [
    "veczr = CountVectorizer(ngram_range=(1,3), max_features=800000)"
   ]
  },
  {
   "cell_type": "code",
   "execution_count": 97,
   "metadata": {},
   "outputs": [],
   "source": [
    "train_words = [[t for t in my_tokenizer(doc)] for doc in X_train]"
   ]
  },
  {
   "cell_type": "code",
   "execution_count": 99,
   "metadata": {},
   "outputs": [],
   "source": [
    "test_words = [[t for t in my_tokenizer(doc)] for doc in X_test]"
   ]
  },
  {
   "cell_type": "code",
   "execution_count": 102,
   "metadata": {},
   "outputs": [
    {
     "data": {
      "text/plain": [
       "['ted',\n",
       " 'cruz',\n",
       " 'fire',\n",
       " 'back',\n",
       " 'jeb',\n",
       " 'amp',\n",
       " 'bush',\n",
       " '\\x89ûïwe',\n",
       " 'lose',\n",
       " 'because',\n",
       " 'republican',\n",
       " 'like',\n",
       " 'jeb',\n",
       " 'amp',\n",
       " 'mitt.\\x89û\\x9d',\n",
       " 'video',\n",
       " 'http',\n",
       " '//t.co/fgdeh56plo']"
      ]
     },
     "execution_count": 102,
     "metadata": {},
     "output_type": "execute_result"
    }
   ],
   "source": [
    "train_words[0]"
   ]
  },
  {
   "cell_type": "code",
   "execution_count": 103,
   "metadata": {},
   "outputs": [
    {
     "name": "stdout",
     "output_type": "stream",
     "text": [
      "Wall time: 1.15 s\n"
     ]
    }
   ],
   "source": [
    "%%time\n",
    "train_ngram_doc = veczr.fit_transform(X_train)"
   ]
  },
  {
   "cell_type": "code",
   "execution_count": 104,
   "metadata": {},
   "outputs": [
    {
     "data": {
      "text/plain": [
       "<6090x142879 sparse matrix of type '<class 'numpy.int64'>'\n",
       "\twith 259286 stored elements in Compressed Sparse Row format>"
      ]
     },
     "execution_count": 104,
     "metadata": {},
     "output_type": "execute_result"
    }
   ],
   "source": [
    "train_ngram_doc"
   ]
  },
  {
   "cell_type": "code",
   "execution_count": 105,
   "metadata": {},
   "outputs": [
    {
     "data": {
      "text/plain": [
       "{'ted': 116371,\n",
       " 'cruz': 33940,\n",
       " 'fires': 46451,\n",
       " 'back': 14096,\n",
       " 'at': 12507,\n",
       " 'jeb': 70693,\n",
       " 'amp': 7482,\n",
       " 'bush': 20743,\n",
       " 'ûïwe': 142775,\n",
       " 'lose': 77321,\n",
       " 'because': 15857,\n",
       " 'of': 88700,\n",
       " 'republicans': 102545,\n",
       " 'like': 75620,\n",
       " 'mitt': 81904,\n",
       " 'video': 131769,\n",
       " 'http': 59462,\n",
       " 'co': 25931,\n",
       " 'fgdeh56plo': 45756,\n",
       " 'ted cruz': 116372,\n",
       " 'cruz fires': 33943,\n",
       " 'fires back': 46465,\n",
       " 'back at': 14110,\n",
       " 'at jeb': 12754,\n",
       " 'jeb amp': 70694,\n",
       " 'amp bush': 7549,\n",
       " 'bush ûïwe': 20766,\n",
       " 'ûïwe lose': 142776,\n",
       " 'lose because': 77322,\n",
       " 'because of': 15901,\n",
       " 'of republicans': 89853,\n",
       " 'republicans like': 102549,\n",
       " 'like jeb': 75771,\n",
       " 'amp mitt': 7733,\n",
       " 'mitt video': 81905,\n",
       " 'video http': 131795,\n",
       " 'http co': 59463,\n",
       " 'co fgdeh56plo': 27550,\n",
       " 'ted cruz fires': 116374,\n",
       " 'cruz fires back': 33944,\n",
       " 'fires back at': 46466,\n",
       " 'back at jeb': 14111,\n",
       " 'at jeb amp': 12755,\n",
       " 'jeb amp bush': 70695,\n",
       " 'amp bush ûïwe': 7551,\n",
       " 'bush ûïwe lose': 20767,\n",
       " 'ûïwe lose because': 142777,\n",
       " 'lose because of': 77323,\n",
       " 'because of republicans': 15906,\n",
       " 'of republicans like': 89854,\n",
       " 'republicans like jeb': 102550,\n",
       " 'like jeb amp': 75772,\n",
       " 'jeb amp mitt': 70696,\n",
       " 'amp mitt video': 7734,\n",
       " 'mitt video http': 81906,\n",
       " 'video http co': 131796,\n",
       " 'http co fgdeh56plo': 60610,\n",
       " 'this': 122652,\n",
       " 'is': 68068,\n",
       " 'the': 117893,\n",
       " 'first': 46576,\n",
       " 'year': 140050,\n",
       " 'forest': 48615,\n",
       " 'service': 107585,\n",
       " 'spent': 112095,\n",
       " 'more': 82508,\n",
       " 'than': 116971,\n",
       " 'half': 54358,\n",
       " 'its': 70049,\n",
       " 'annual': 10184,\n",
       " 'budget': 20161,\n",
       " 'on': 91271,\n",
       " 'fighting': 45877,\n",
       " 'climatechange': 25660,\n",
       " 'd62zfzy0mi': 34494,\n",
       " 'this is': 122865,\n",
       " 'is the': 68839,\n",
       " 'the first': 119008,\n",
       " 'first year': 46698,\n",
       " 'year the': 140113,\n",
       " 'the forest': 119055,\n",
       " 'forest service': 48655,\n",
       " 'service spent': 107623,\n",
       " 'spent more': 112100,\n",
       " 'more than': 82654,\n",
       " 'than half': 117038,\n",
       " 'half its': 54376,\n",
       " 'its annual': 70059,\n",
       " 'annual budget': 10187,\n",
       " 'budget on': 20166,\n",
       " 'on fighting': 91520,\n",
       " 'fighting fires': 45880,\n",
       " 'fires climatechange': 46475,\n",
       " 'climatechange http': 25663,\n",
       " 'co d62zfzy0mi': 27202,\n",
       " 'this is the': 122886,\n",
       " 'is the first': 68857,\n",
       " 'the first year': 119023,\n",
       " 'first year the': 46699,\n",
       " 'year the forest': 140114,\n",
       " 'the forest service': 119058,\n",
       " 'forest service spent': 48664,\n",
       " 'service spent more': 107624,\n",
       " 'spent more than': 112101,\n",
       " 'more than half': 82667,\n",
       " 'than half its': 117039,\n",
       " 'half its annual': 54377,\n",
       " 'its annual budget': 70060,\n",
       " 'annual budget on': 10188,\n",
       " 'budget on fighting': 20167,\n",
       " 'on fighting fires': 91521,\n",
       " 'fighting fires climatechange': 45881,\n",
       " 'fires climatechange http': 46476,\n",
       " 'climatechange http co': 25664,\n",
       " 'http co d62zfzy0mi': 60363,\n",
       " 'lightseraphs': 75614,\n",
       " 'pissed': 96608,\n",
       " 'you': 140500,\n",
       " 'and': 8282,\n",
       " 'could': 32780,\n",
       " 'have': 55290,\n",
       " 'their': 121345,\n",
       " 'pikachu': 96484,\n",
       " 'electrocute': 41268,\n",
       " 'lightseraphs pissed': 75615,\n",
       " 'pissed at': 96609,\n",
       " 'at you': 13024,\n",
       " 'you and': 140521,\n",
       " 'and could': 8545,\n",
       " 'could have': 32830,\n",
       " 'have their': 55645,\n",
       " 'their pikachu': 121440,\n",
       " 'pikachu electrocute': 96485,\n",
       " 'electrocute you': 41294,\n",
       " 'lightseraphs pissed at': 75616,\n",
       " 'pissed at you': 96610,\n",
       " 'at you and': 13025,\n",
       " 'you and could': 140523,\n",
       " 'and could have': 8546,\n",
       " 'could have their': 32833,\n",
       " 'have their pikachu': 55646,\n",
       " 'their pikachu electrocute': 121441,\n",
       " 'pikachu electrocute you': 96486,\n",
       " 'electrocute you and': 41295,\n",
       " 'gonna': 52328,\n",
       " 'fight': 45830,\n",
       " 'taylor': 116133,\n",
       " 'as': 11894,\n",
       " 'soon': 111526,\n",
       " 'get': 51032,\n",
       " 'there': 121772,\n",
       " 'gonna fight': 52356,\n",
       " 'fight taylor': 45853,\n",
       " 'taylor as': 116136,\n",
       " 'as soon': 12114,\n",
       " 'soon as': 111529,\n",
       " 'as get': 11978,\n",
       " 'get there': 51235,\n",
       " 'gonna fight taylor': 52357,\n",
       " 'fight taylor as': 45854,\n",
       " 'taylor as soon': 116137,\n",
       " 'as soon as': 12115,\n",
       " 'soon as get': 111530,\n",
       " 'as get there': 11979,\n",
       " 'nicolaclements4': 86344,\n",
       " 'ûªm': 142518,\n",
       " 'not': 87206,\n",
       " 'sure': 114920,\n",
       " 'that': 117176,\n",
       " 'covering': 33143,\n",
       " 'my': 83862,\n",
       " 'head': 56230,\n",
       " 'in': 64668,\n",
       " 'wounds': 139135,\n",
       " 'scabs': 106124,\n",
       " 'solution': 111094,\n",
       " 'nicolaclements4 ûªm': 86345,\n",
       " 'ûªm not': 142519,\n",
       " 'not sure': 87478,\n",
       " 'sure that': 114945,\n",
       " 'that covering': 117286,\n",
       " 'covering my': 33144,\n",
       " 'my head': 84245,\n",
       " 'head in': 56256,\n",
       " 'in wounds': 66428,\n",
       " 'wounds and': 139140,\n",
       " 'and scabs': 9450,\n",
       " 'scabs is': 106125,\n",
       " 'the solution': 120589,\n",
       " 'nicolaclements4 ûªm not': 86346,\n",
       " 'ûªm not sure': 142520,\n",
       " 'not sure that': 87480,\n",
       " 'sure that covering': 114946,\n",
       " 'that covering my': 117287,\n",
       " 'covering my head': 33145,\n",
       " 'my head in': 84249,\n",
       " 'head in wounds': 56259,\n",
       " 'in wounds and': 66429,\n",
       " 'wounds and scabs': 139143,\n",
       " 'and scabs is': 9451,\n",
       " 'scabs is the': 106126,\n",
       " 'is the solution': 68878,\n",
       " 'kabwandi_': 71994,\n",
       " 'breaking': 19521,\n",
       " 'news': 85992,\n",
       " 'unconfirmed': 129349,\n",
       " 'just': 71450,\n",
       " 'heard': 56421,\n",
       " 'loud': 77454,\n",
       " 'bang': 14607,\n",
       " 'nearby': 85348,\n",
       " 'what': 135281,\n",
       " 'appears': 10727,\n",
       " 'to': 124312,\n",
       " 'be': 15204,\n",
       " 'blast': 17790,\n",
       " 'wind': 137086,\n",
       " 'from': 49410,\n",
       " 'neighbour': 85549,\n",
       " 'ass': 12375,\n",
       " 'kabwandi_ breaking': 71995,\n",
       " 'breaking news': 19535,\n",
       " 'news unconfirmed': 86128,\n",
       " 'unconfirmed just': 129350,\n",
       " 'just heard': 71625,\n",
       " 'heard loud': 56432,\n",
       " 'loud bang': 77461,\n",
       " 'bang nearby': 14624,\n",
       " 'nearby in': 85351,\n",
       " 'in what': 66394,\n",
       " 'what appears': 135294,\n",
       " 'appears to': 10730,\n",
       " 'to be': 124459,\n",
       " 'be blast': 15259,\n",
       " 'blast of': 17799,\n",
       " 'of wind': 90424,\n",
       " 'wind from': 137102,\n",
       " 'from my': 49634,\n",
       " 'my neighbour': 84389,\n",
       " 'neighbour ass': 85550,\n",
       " 'kabwandi_ breaking news': 71996,\n",
       " 'breaking news unconfirmed': 19539,\n",
       " 'news unconfirmed just': 86129,\n",
       " 'unconfirmed just heard': 129351,\n",
       " 'just heard loud': 71626,\n",
       " 'heard loud bang': 56433,\n",
       " 'loud bang nearby': 77469,\n",
       " 'bang nearby in': 14625,\n",
       " 'nearby in what': 85352,\n",
       " 'in what appears': 66395,\n",
       " 'what appears to': 135295,\n",
       " 'appears to be': 10732,\n",
       " 'to be blast': 124465,\n",
       " 'be blast of': 15260,\n",
       " 'blast of wind': 17800,\n",
       " 'of wind from': 90425,\n",
       " 'wind from my': 137103,\n",
       " 'from my neighbour': 49639,\n",
       " 'my neighbour ass': 84390,\n",
       " 'annihilation': 10128,\n",
       " 'christie': 25052,\n",
       " 'kasich': 72147,\n",
       " 'less': 74983,\n",
       " '24': 1670,\n",
       " 'hours': 59065,\n",
       " 'away': 13832,\n",
       " 'please': 97122,\n",
       " 'god': 52042,\n",
       " 'allow': 6778,\n",
       " 'me': 79866,\n",
       " 'least': 74571,\n",
       " 'one': 92208,\n",
       " 'full': 50112,\n",
       " 'day': 35147,\n",
       " 'the annihilation': 118045,\n",
       " 'annihilation of': 10135,\n",
       " 'of jeb': 89472,\n",
       " 'jeb christie': 70699,\n",
       " 'christie amp': 25053,\n",
       " 'amp kasich': 7706,\n",
       " 'kasich is': 72148,\n",
       " 'is less': 68523,\n",
       " 'less than': 74997,\n",
       " 'than 24': 116978,\n",
       " '24 hours': 1680,\n",
       " 'hours away': 59069,\n",
       " 'away please': 13862,\n",
       " 'please god': 97153,\n",
       " 'god allow': 52043,\n",
       " 'allow me': 6783,\n",
       " 'me at': 79897,\n",
       " 'at least': 12759,\n",
       " 'least one': 74599,\n",
       " 'one more': 92312,\n",
       " 'more full': 82557,\n",
       " 'full day': 50124,\n",
       " 'the annihilation of': 118047,\n",
       " 'annihilation of jeb': 10138,\n",
       " 'of jeb christie': 89473,\n",
       " 'jeb christie amp': 70700,\n",
       " 'christie amp kasich': 25054,\n",
       " 'amp kasich is': 7707,\n",
       " 'kasich is less': 72149,\n",
       " 'is less than': 68524,\n",
       " 'less than 24': 74998,\n",
       " 'than 24 hours': 116979,\n",
       " '24 hours away': 1682,\n",
       " 'hours away please': 59072,\n",
       " 'away please god': 13863,\n",
       " 'please god allow': 97154,\n",
       " 'god allow me': 52044,\n",
       " 'allow me at': 6784,\n",
       " 'me at least': 79900,\n",
       " 'at least one': 12772,\n",
       " 'least one more': 74600,\n",
       " 'one more full': 92313,\n",
       " 'more full day': 82558,\n",
       " 'wtf': 139499,\n",
       " 'mom': 82223,\n",
       " 'drowned': 39875,\n",
       " 'her': 56962,\n",
       " 'child': 24747,\n",
       " 'wtf this': 139508,\n",
       " 'this mom': 122940,\n",
       " 'mom just': 82234,\n",
       " 'just drowned': 71558,\n",
       " 'drowned her': 39883,\n",
       " 'her child': 56988,\n",
       " 'wtf this mom': 139509,\n",
       " 'this mom just': 122941,\n",
       " 'mom just drowned': 82235,\n",
       " 'just drowned her': 71559,\n",
       " 'drowned her child': 39884,\n",
       " 'mayoroflondon': 79770,\n",
       " 'pls': 97228,\n",
       " 'reduce': 101779,\n",
       " 'cyclist': 34381,\n",
       " 'deaths': 35706,\n",
       " 'with': 137350,\n",
       " 'compulsory': 31893,\n",
       " 'highway': 57495,\n",
       " 'code': 30957,\n",
       " 'test': 116795,\n",
       " 'every': 43191,\n",
       " 'other': 93326,\n",
       " 'vehicle': 131299,\n",
       " 'uses': 130742,\n",
       " 'road': 103781,\n",
       " 'notrocketscience': 87661,\n",
       " 'mayoroflondon pls': 79771,\n",
       " 'pls reduce': 97235,\n",
       " 'reduce cyclist': 101782,\n",
       " 'cyclist deaths': 34382,\n",
       " 'deaths with': 35749,\n",
       " 'with compulsory': 137457,\n",
       " 'compulsory highway': 31894,\n",
       " 'highway code': 57498,\n",
       " 'code test': 30964,\n",
       " 'test as': 116802,\n",
       " 'as with': 12198,\n",
       " 'with every': 137506,\n",
       " 'every other': 43237,\n",
       " 'other vehicle': 93375,\n",
       " 'vehicle that': 131321,\n",
       " 'that uses': 117785,\n",
       " 'uses road': 130745,\n",
       " 'road notrocketscience': 103811,\n",
       " 'mayoroflondon pls reduce': 79772,\n",
       " 'pls reduce cyclist': 97236,\n",
       " 'reduce cyclist deaths': 101783,\n",
       " 'cyclist deaths with': 34383,\n",
       " 'deaths with compulsory': 35750,\n",
       " 'with compulsory highway': 137458,\n",
       " 'compulsory highway code': 31895,\n",
       " 'highway code test': 57499,\n",
       " 'code test as': 30965,\n",
       " 'test as with': 116803,\n",
       " 'as with every': 12199,\n",
       " 'with every other': 137507,\n",
       " 'every other vehicle': 43238,\n",
       " 'other vehicle that': 93377,\n",
       " 'vehicle that uses': 131322,\n",
       " 'that uses road': 117786,\n",
       " 'uses road notrocketscience': 130746,\n",
       " 'doctordryadma': 38494,\n",
       " 'mass': 79337,\n",
       " 'murder': 83543,\n",
       " 'here': 57123,\n",
       " 'we': 134117,\n",
       " 'come': 31458,\n",
       " 'doctordryadma mass': 38495,\n",
       " 'mass murder': 79349,\n",
       " 'murder here': 83565,\n",
       " 'here we': 57200,\n",
       " 'we come': 134165,\n",
       " 'doctordryadma mass murder': 38496,\n",
       " 'mass murder here': 79358,\n",
       " 'murder here we': 83566,\n",
       " 'here we come': 57201,\n",
       " 'weapon_x_music': 134505,\n",
       " 'hey': 57285,\n",
       " 'guys': 53870,\n",
       " 'thanks': 117140,\n",
       " 'for': 47630,\n",
       " 'rock': 103947,\n",
       " 'world': 138658,\n",
       " 'follow': 47453,\n",
       " 'weapon_x_music hey': 134506,\n",
       " 'hey guys': 57292,\n",
       " 'guys thanks': 53891,\n",
       " 'thanks for': 117149,\n",
       " 'for rock': 48216,\n",
       " 'rock in': 103958,\n",
       " 'in my': 65630,\n",
       " 'my world': 84616,\n",
       " 'world and': 138661,\n",
       " 'and for': 8772,\n",
       " 'for the': 48324,\n",
       " 'the follow': 119048,\n",
       " 'weapon_x_music hey guys': 134507,\n",
       " 'hey guys thanks': 57293,\n",
       " 'guys thanks for': 53892,\n",
       " 'thanks for rock': 117151,\n",
       " 'for rock in': 48217,\n",
       " 'rock in my': 103959,\n",
       " 'in my world': 65658,\n",
       " 'my world and': 84617,\n",
       " 'world and for': 138662,\n",
       " 'and for the': 8774,\n",
       " 'for the follow': 48351,\n",
       " 'hurricane': 63396,\n",
       " 'mixxtail': 81940,\n",
       " 'kinda': 72822,\n",
       " 'tastes': 116072,\n",
       " 'watermelon': 133842,\n",
       " 'four': 48901,\n",
       " 'loko': 76858,\n",
       " 'brittsand9': 19821,\n",
       " 'the hurricane': 119328,\n",
       " 'hurricane mixxtail': 63422,\n",
       " 'mixxtail kinda': 81941,\n",
       " 'kinda tastes': 72837,\n",
       " 'tastes like': 116073,\n",
       " 'like the': 75896,\n",
       " 'the watermelon': 121033,\n",
       " 'watermelon four': 133843,\n",
       " 'four loko': 48914,\n",
       " 'loko brittsand9': 76859,\n",
       " 'the hurricane mixxtail': 119329,\n",
       " 'hurricane mixxtail kinda': 63423,\n",
       " 'mixxtail kinda tastes': 81942,\n",
       " 'kinda tastes like': 72838,\n",
       " 'tastes like the': 116075,\n",
       " 'like the watermelon': 75906,\n",
       " 'the watermelon four': 121034,\n",
       " 'watermelon four loko': 133844,\n",
       " 'four loko brittsand9': 48915,\n",
       " 'apollo': 10674,\n",
       " 'brown': 19998,\n",
       " 'ûò': 142786,\n",
       " 'detonate': 37017,\n",
       " 'ft': 49895,\n",
       " 'åêm': 142381,\n",
       " 'jd7rik7fx0': 70664,\n",
       " 'h6ngsw9a5b': 53979,\n",
       " 'apollo brown': 10675,\n",
       " 'brown ûò': 20024,\n",
       " 'ûò detonate': 142802,\n",
       " 'detonate ft': 37031,\n",
       " 'ft åêm': 49906,\n",
       " 'åêm http': 142382,\n",
       " 'co jd7rik7fx0': 28213,\n",
       " 'jd7rik7fx0 http': 70665,\n",
       " 'co h6ngsw9a5b': 27836,\n",
       " 'apollo brown ûò': 10679,\n",
       " 'brown ûò detonate': 20025,\n",
       " 'ûò detonate ft': 142803,\n",
       " 'detonate ft åêm': 37034,\n",
       " 'ft åêm http': 49907,\n",
       " 'åêm http co': 142383,\n",
       " 'http co jd7rik7fx0': 61066,\n",
       " 'co jd7rik7fx0 http': 28214,\n",
       " 'jd7rik7fx0 http co': 70666,\n",
       " 'http co h6ngsw9a5b': 60806,\n",
       " 'usa': 130584,\n",
       " 'chemical': 24606,\n",
       " 'spill': 112128,\n",
       " 'evacuations': 42942,\n",
       " 'red': 101654,\n",
       " 'cross': 33742,\n",
       " 'emergency': 41520,\n",
       " '007npen6lg': 48,\n",
       " 'usa breaking': 130589,\n",
       " 'news chemical': 86021,\n",
       " 'chemical spill': 24635,\n",
       " 'spill evacuations': 112141,\n",
       " 'evacuations red': 42947,\n",
       " 'red cross': 101667,\n",
       " 'cross emergency': 33761,\n",
       " 'emergency http': 41579,\n",
       " 'co 007npen6lg': 25932,\n",
       " 'usa breaking news': 130590,\n",
       " 'breaking news chemical': 19537,\n",
       " 'news chemical spill': 86022,\n",
       " 'chemical spill evacuations': 24638,\n",
       " 'spill evacuations red': 112142,\n",
       " 'evacuations red cross': 42948,\n",
       " 'red cross emergency': 101668,\n",
       " 'cross emergency http': 33762,\n",
       " 'emergency http co': 41580,\n",
       " 'http co 007npen6lg': 59464,\n",
       " 'kushwush': 73462,\n",
       " 'still': 113239,\n",
       " 'traumatised': 127589,\n",
       " 'by': 21272,\n",
       " 'your': 141400,\n",
       " 'driving': 39696,\n",
       " 'having': 55742,\n",
       " 'flashbacks': 46932,\n",
       " 'lane': 73907,\n",
       " 'hogging': 58289,\n",
       " 'kushwush still': 73463,\n",
       " 'still traumatised': 113374,\n",
       " 'traumatised by': 127600,\n",
       " 'by your': 21752,\n",
       " 'your driving': 141485,\n",
       " 'driving having': 39708,\n",
       " 'having flashbacks': 55757,\n",
       " 'flashbacks of': 46935,\n",
       " 'of the': 90065,\n",
       " 'the lane': 119483,\n",
       " 'lane hogging': 73910,\n",
       " 'kushwush still traumatised': 73464,\n",
       " 'still traumatised by': 113375,\n",
       " 'traumatised by your': 127603,\n",
       " 'by your driving': 21753,\n",
       " 'your driving having': 141486,\n",
       " 'driving having flashbacks': 39709,\n",
       " 'having flashbacks of': 55758,\n",
       " 'flashbacks of the': 46936,\n",
       " 'of the lane': 90145,\n",
       " 'the lane hogging': 119484,\n",
       " 'alcoholandmetal': 6309,\n",
       " 'do': 38299,\n",
       " 'anything': 10515,\n",
       " 'fix': 46768,\n",
       " 'few': 45702,\n",
       " 'people': 95562,\n",
       " 'he': 55937,\n",
       " 'had': 54030,\n",
       " 'trusted': 128220,\n",
       " 'his': 57885,\n",
       " 'life': 75337,\n",
       " 'charles': 24415,\n",
       " 'was': 133083,\n",
       " 'casualties': 23440,\n",
       " 'alcoholandmetal do': 6310,\n",
       " 'do anything': 38311,\n",
       " 'anything to': 10536,\n",
       " 'to fix': 124961,\n",
       " 'fix that': 46773,\n",
       " 'that of': 117584,\n",
       " 'the few': 118973,\n",
       " 'few people': 45721,\n",
       " 'people he': 95634,\n",
       " 'he had': 56050,\n",
       " 'had every': 54066,\n",
       " 'every trusted': 43260,\n",
       " 'trusted in': 128221,\n",
       " 'in his': 65351,\n",
       " 'his life': 57987,\n",
       " 'life charles': 75356,\n",
       " 'charles was': 24419,\n",
       " 'was one': 133385,\n",
       " 'one of': 92322,\n",
       " 'the casualties': 118409,\n",
       " 'alcoholandmetal do anything': 6311,\n",
       " 'do anything to': 38314,\n",
       " 'anything to fix': 10537,\n",
       " 'to fix that': 124962,\n",
       " 'fix that of': 46774,\n",
       " 'that of the': 117585,\n",
       " 'of the few': 90125,\n",
       " 'the few people': 118974,\n",
       " 'few people he': 45722,\n",
       " 'people he had': 95635,\n",
       " 'he had every': 56052,\n",
       " 'had every trusted': 54067,\n",
       " 'every trusted in': 43261,\n",
       " 'trusted in his': 128222,\n",
       " 'in his life': 65357,\n",
       " 'his life charles': 57989,\n",
       " 'life charles was': 75357,\n",
       " 'charles was one': 24420,\n",
       " 'was one of': 133386,\n",
       " 'one of the': 92329,\n",
       " 'of the casualties': 90093,\n",
       " 'xbox': 139678,\n",
       " '360': 2182,\n",
       " 'pro': 98779,\n",
       " 'console': 32237,\n",
       " 'ring': 103446,\n",
       " 'death': 35622,\n",
       " 'read': 101088,\n",
       " 'ebay': 40796,\n",
       " '5gktshiorr': 2887,\n",
       " '9jeuu86koi': 3780,\n",
       " 'xbox 360': 139679,\n",
       " '360 pro': 2185,\n",
       " 'pro console': 98782,\n",
       " 'console red': 32240,\n",
       " 'red ring': 101703,\n",
       " 'ring of': 103451,\n",
       " 'of death': 89071,\n",
       " 'death full': 35647,\n",
       " 'full read': 50142,\n",
       " 'read by': 101097,\n",
       " 'by ebay': 21384,\n",
       " 'ebay http': 40803,\n",
       " 'co 5gktshiorr': 26368,\n",
       " '5gktshiorr http': 2888,\n",
       " 'co 9jeuu86koi': 26696,\n",
       " 'xbox 360 pro': 139681,\n",
       " '360 pro console': 2186,\n",
       " 'pro console red': 98783,\n",
       " 'console red ring': 32241,\n",
       " 'red ring of': 101704,\n",
       " 'ring of death': 103452,\n",
       " 'of death full': 89072,\n",
       " 'death full read': 35648,\n",
       " 'full read by': 50143,\n",
       " 'read by ebay': 101098,\n",
       " 'by ebay http': 21385,\n",
       " 'ebay http co': 40804,\n",
       " 'http co 5gktshiorr': 59762,\n",
       " 'co 5gktshiorr http': 26369,\n",
       " '5gktshiorr http co': 2889,\n",
       " 'http co 9jeuu86koi': 59995,\n",
       " 'obama': 88426,\n",
       " 'declares': 35882,\n",
       " 'disaster': 37765,\n",
       " 'typhoon': 128973,\n",
       " 'devastated': 37090,\n",
       " 'saipan': 105331,\n",
       " 'signs': 109164,\n",
       " 'declaration': 35871,\n",
       " 'northern': 87139,\n",
       " 'marians': 79122,\n",
       " 'vts9cayibc': 132354,\n",
       " 'obama declares': 88435,\n",
       " 'declares disaster': 35885,\n",
       " 'disaster for': 37797,\n",
       " 'for typhoon': 48432,\n",
       " 'typhoon devastated': 128974,\n",
       " 'devastated saipan': 37106,\n",
       " 'saipan obama': 105334,\n",
       " 'obama signs': 88455,\n",
       " 'signs disaster': 109167,\n",
       " 'disaster declaration': 37789,\n",
       " 'declaration for': 35872,\n",
       " 'for northern': 48110,\n",
       " 'northern marians': 87154,\n",
       " 'marians http': 79123,\n",
       " 'co vts9cayibc': 30223,\n",
       " 'obama declares disaster': 88436,\n",
       " 'declares disaster for': 35886,\n",
       " 'disaster for typhoon': 37799,\n",
       " 'for typhoon devastated': 48433,\n",
       " 'typhoon devastated saipan': 128975,\n",
       " 'devastated saipan obama': 37108,\n",
       " 'saipan obama signs': 105335,\n",
       " 'obama signs disaster': 88456,\n",
       " 'signs disaster declaration': 109169,\n",
       " 'disaster declaration for': 37790,\n",
       " 'declaration for northern': 35874,\n",
       " 'for northern marians': 48113,\n",
       " 'northern marians http': 87155,\n",
       " 'marians http co': 79124,\n",
       " 'http co vts9cayibc': 62436,\n",
       " 'will': 136764,\n",
       " 'held': 56682,\n",
       " 'hostage': 58890,\n",
       " 'radical': 100276,\n",
       " 'group': 53395,\n",
       " 'you will': 141307,\n",
       " 'will be': 136777,\n",
       " 'be held': 15393,\n",
       " 'held hostage': 56686,\n",
       " 'hostage by': 58899,\n",
       " 'by radical': 21604,\n",
       " 'radical group': 100277,\n",
       " 'you will be': 141308,\n",
       " 'will be held': 136799,\n",
       " 'be held hostage': 15394,\n",
       " 'held hostage by': 56687,\n",
       " 'hostage by radical': 58901,\n",
       " 'by radical group': 21605,\n",
       " 'choking': 24949,\n",
       " 'hazard': 55807,\n",
       " 'prompts': 99039,\n",
       " 'recall': 101480,\n",
       " 'kraft': 73370,\n",
       " 'cheese': 24572,\n",
       " 'singles': 109401,\n",
       " 'xgkyvf9t4f': 139723,\n",
       " 'choking hazard': 24950,\n",
       " 'hazard prompts': 55841,\n",
       " 'prompts recall': 99040,\n",
       " 'recall of': 101483,\n",
       " 'of kraft': 89499,\n",
       " 'kraft cheese': 73371,\n",
       " 'cheese singles': 24579,\n",
       " 'singles http': 109402,\n",
       " 'co xgkyvf9t4f': 30457,\n",
       " 'choking hazard prompts': 24953,\n",
       " 'hazard prompts recall': 55842,\n",
       " 'prompts recall of': 99041,\n",
       " 'recall of kraft': 101484,\n",
       " 'of kraft cheese': 89500,\n",
       " 'kraft cheese singles': 73372,\n",
       " 'cheese singles http': 24580,\n",
       " 'singles http co': 109403,\n",
       " 'http co xgkyvf9t4f': 62595,\n",
       " 'fav': 45148,\n",
       " 'worlds': 138784,\n",
       " 'collided': 31251,\n",
       " 'lennonparham': 74928,\n",
       " 'jessica_stclair': 70768,\n",
       " 'found': 48853,\n",
       " 'gilmoreguysshow': 51546,\n",
       " 'podcast': 97363,\n",
       " 'ihave44episodesofgg': 64237,\n",
       " 'nojoke': 86991,\n",
       " 'my fav': 84130,\n",
       " 'fav worlds': 45151,\n",
       " 'worlds have': 138788,\n",
       " 'have collided': 55384,\n",
       " 'collided thanks': 31280,\n",
       " 'thanks to': 117167,\n",
       " 'to lennonparham': 125254,\n",
       " 'lennonparham jessica_stclair': 74929,\n",
       " 'jessica_stclair found': 70769,\n",
       " 'found the': 48882,\n",
       " 'the gilmoreguysshow': 119143,\n",
       " 'gilmoreguysshow podcast': 51547,\n",
       " 'podcast ihave44episodesofgg': 97364,\n",
       " 'ihave44episodesofgg nojoke': 64238,\n",
       " 'my fav worlds': 84132,\n",
       " 'fav worlds have': 45152,\n",
       " 'worlds have collided': 138789,\n",
       " 'have collided thanks': 55386,\n",
       " 'collided thanks to': 31281,\n",
       " 'thanks to lennonparham': 117170,\n",
       " 'to lennonparham jessica_stclair': 125255,\n",
       " 'lennonparham jessica_stclair found': 74930,\n",
       " 'jessica_stclair found the': 70770,\n",
       " 'found the gilmoreguysshow': 48883,\n",
       " 'the gilmoreguysshow podcast': 119144,\n",
       " 'gilmoreguysshow podcast ihave44episodesofgg': 51548,\n",
       " 'podcast ihave44episodesofgg nojoke': 97365,\n",
       " 'going': 52164,\n",
       " 'hollywood': 58375,\n",
       " 'abc7eyewitness': 4077,\n",
       " 'abc7': 4071,\n",
       " 'helicopters': 56717,\n",
       " 'sirens': 109596,\n",
       " 'hometownglory': 58552,\n",
       " 'what going': 135349,\n",
       " 'going on': 52195,\n",
       " 'on in': 91645,\n",
       " 'in hollywood': 65366,\n",
       " 'hollywood abc7eyewitness': 58376,\n",
       " 'abc7eyewitness abc7': 4078,\n",
       " 'abc7 helicopters': 4072,\n",
       " 'helicopters and': 56718,\n",
       " 'and sirens': 9512,\n",
       " 'sirens hometownglory': 109606,\n",
       " 'what going on': 135350,\n",
       " 'going on in': 52200,\n",
       " 'on in hollywood': 91646,\n",
       " 'in hollywood abc7eyewitness': 65367,\n",
       " 'hollywood abc7eyewitness abc7': 58377,\n",
       " 'abc7eyewitness abc7 helicopters': 4079,\n",
       " 'abc7 helicopters and': 4073,\n",
       " 'helicopters and sirens': 56719,\n",
       " 'and sirens hometownglory': 9513,\n",
       " 'such': 114367,\n",
       " 'activities': 4885,\n",
       " 'govt': 52867,\n",
       " 'can': 22458,\n",
       " 'derail': 36531,\n",
       " 'us': 130421,\n",
       " 'our': 93448,\n",
       " 'aim': 5963,\n",
       " 'remain': 102134,\n",
       " 'peaceful': 95443,\n",
       " 'unite': 129559,\n",
       " 'freesikhpoliticalprisnors': 49237,\n",
       " 'bapusuratsingh': 14700,\n",
       " 'such activities': 114368,\n",
       " 'activities of': 4888,\n",
       " 'of govt': 89276,\n",
       " 'govt can': 52874,\n",
       " 'can derail': 22518,\n",
       " 'derail us': 36563,\n",
       " 'us from': 130483,\n",
       " 'from our': 49669,\n",
       " 'our aim': 93451,\n",
       " 'aim amp': 5964,\n",
       " 'amp we': 7911,\n",
       " 'we still': 134345,\n",
       " 'still remain': 113338,\n",
       " 'remain peaceful': 102141,\n",
       " 'peaceful and': 95446,\n",
       " 'and unite': 9795,\n",
       " 'unite for': 129560,\n",
       " 'for freesikhpoliticalprisnors': 47906,\n",
       " 'freesikhpoliticalprisnors amp': 49238,\n",
       " 'amp bapusuratsingh': 7528,\n",
       " 'such activities of': 114369,\n",
       " 'activities of govt': 4889,\n",
       " 'of govt can': 89278,\n",
       " 'govt can derail': 52875,\n",
       " 'can derail us': 22519,\n",
       " 'derail us from': 36564,\n",
       " 'us from our': 130484,\n",
       " 'from our aim': 49670,\n",
       " 'our aim amp': 93452,\n",
       " 'aim amp we': 5965,\n",
       " 'amp we still': 7912,\n",
       " 'we still remain': 134350,\n",
       " 'still remain peaceful': 113339,\n",
       " 'remain peaceful and': 102142,\n",
       " 'peaceful and unite': 95447,\n",
       " 'and unite for': 9796,\n",
       " 'unite for freesikhpoliticalprisnors': 129561,\n",
       " 'for freesikhpoliticalprisnors amp': 47907,\n",
       " 'freesikhpoliticalprisnors amp bapusuratsingh': 49239,\n",
       " 'so': 110565,\n",
       " 'cool': 32496,\n",
       " 'garbanzobean23': 50637,\n",
       " 'cutest': 34299,\n",
       " 'indot': 66768,\n",
       " 'worker': 138594,\n",
       " 'but': 20820,\n",
       " 'might': 81218,\n",
       " 'little': 76341,\n",
       " 'bias': 17143,\n",
       " 'g7k9tqvqbk': 50400,\n",
       " 'so cool': 110615,\n",
       " 'cool garbanzobean23': 32500,\n",
       " 'garbanzobean23 in': 50638,\n",
       " 'in the': 66070,\n",
       " 'the news': 119881,\n",
       " 'news cutest': 86028,\n",
       " 'cutest indot': 34300,\n",
       " 'indot worker': 66769,\n",
       " 'worker but': 138595,\n",
       " 'but might': 21000,\n",
       " 'might be': 81223,\n",
       " 'be little': 15439,\n",
       " 'little bias': 76342,\n",
       " 'bias http': 17144,\n",
       " 'co g7k9tqvqbk': 27656,\n",
       " 'so cool garbanzobean23': 110616,\n",
       " 'cool garbanzobean23 in': 32501,\n",
       " 'garbanzobean23 in the': 50639,\n",
       " 'in the news': 66166,\n",
       " 'the news cutest': 119882,\n",
       " 'news cutest indot': 86029,\n",
       " 'cutest indot worker': 34301,\n",
       " 'indot worker but': 66770,\n",
       " 'worker but might': 138596,\n",
       " 'but might be': 21001,\n",
       " 'might be little': 81226,\n",
       " 'be little bias': 15440,\n",
       " 'little bias http': 76343,\n",
       " 'bias http co': 17145,\n",
       " 'http co g7k9tqvqbk': 60684,\n",
       " 'latestnews': 74236,\n",
       " 'tension': 116600,\n",
       " 'bayelsa': 15074,\n",
       " 'patience': 95204,\n",
       " 'jonathan': 71144,\n",
       " 'plans': 96914,\n",
       " 'hijack': 57510,\n",
       " 'apc': 10610,\n",
       " 'pdp': 95400,\n",
       " 'latestnews tension': 74241,\n",
       " 'tension in': 116601,\n",
       " 'in bayelsa': 64870,\n",
       " 'bayelsa as': 15075,\n",
       " 'as patience': 12076,\n",
       " 'patience jonathan': 95207,\n",
       " 'jonathan plans': 71149,\n",
       " 'plans to': 96933,\n",
       " 'to hijack': 125128,\n",
       " 'hijack apc': 57511,\n",
       " 'apc pdp': 10616,\n",
       " 'latestnews tension in': 74242,\n",
       " 'tension in bayelsa': 116603,\n",
       " 'in bayelsa as': 64871,\n",
       " 'bayelsa as patience': 15076,\n",
       " 'as patience jonathan': 12077,\n",
       " 'patience jonathan plans': 95209,\n",
       " 'jonathan plans to': 71150,\n",
       " 'plans to hijack': 96935,\n",
       " 'to hijack apc': 125129,\n",
       " 'hijack apc pdp': 57513,\n",
       " 'kmactwn': 73019,\n",
       " 'meaganerd': 80223,\n",
       " 'looks': 77176,\n",
       " 'bowl': 19250,\n",
       " 'weather': 134584,\n",
       " 'cereal': 24054,\n",
       " 'new': 85729,\n",
       " 'kellogg': 72322,\n",
       " 'sugar': 114470,\n",
       " 'hail': 54220,\n",
       " 'stays': 113041,\n",
       " 'crunchy': 33849,\n",
       " 'even': 42972,\n",
       " 'milk': 81414,\n",
       " 'kmactwn meaganerd': 73020,\n",
       " 'meaganerd looks': 80224,\n",
       " 'looks like': 77191,\n",
       " 'like bowl': 75657,\n",
       " 'bowl of': 19253,\n",
       " 'of weather': 90379,\n",
       " 'weather cereal': 134598,\n",
       " 'cereal new': 24055,\n",
       " 'new kellogg': 85837,\n",
       " 'kellogg sugar': 72323,\n",
       " 'sugar hail': 114471,\n",
       " 'hail stays': 54257,\n",
       " 'stays crunchy': 113042,\n",
       " 'crunchy even': 33850,\n",
       " 'even in': 43003,\n",
       " 'in milk': 65586,\n",
       " 'kmactwn meaganerd looks': 73021,\n",
       " 'meaganerd looks like': 80225,\n",
       " 'looks like bowl': 77192,\n",
       " 'like bowl of': 75658,\n",
       " 'bowl of weather': 19255,\n",
       " 'of weather cereal': 90380,\n",
       " 'weather cereal new': 134599,\n",
       " 'cereal new kellogg': 24056,\n",
       " 'new kellogg sugar': 85838,\n",
       " 'kellogg sugar hail': 72324,\n",
       " 'sugar hail stays': 114472,\n",
       " 'hail stays crunchy': 54258,\n",
       " 'stays crunchy even': 113043,\n",
       " 'crunchy even in': 33851,\n",
       " 'even in milk': 43004,\n",
       " 'record': 101585,\n",
       " 'drought': 39774,\n",
       " 'united': 129563,\n",
       " 'states': 112942,\n",
       " 'hasn': 55199,\n",
       " 'been': 16065,\n",
       " 'hit': 58119,\n",
       " 'major': 78420,\n",
       " 'past': 95125,\n",
       " 'nine': 86518,\n",
       " 'years': 140124,\n",
       " 'it': 69274,\n",
       " 'seems': 107097,\n",
       " 'û_': 142388,\n",
       " 'in record': 65854,\n",
       " 'record hurricane': 101592,\n",
       " 'hurricane drought': 63407,\n",
       " 'drought the': 39807,\n",
       " 'the united': 120940,\n",
       " 'united states': 129574,\n",
       " 'states hasn': 112947,\n",
       " 'hasn been': 55200,\n",
       " 'been hit': 16162,\n",
       " 'hit by': 58130,\n",
       " 'by major': 21525,\n",
       " 'major hurricane': 78436,\n",
       " 'hurricane in': 63417,\n",
       " 'the past': 120062,\n",
       " 'past nine': 95139,\n",
       " 'nine years': 86527,\n",
       " 'years and': 140145,\n",
       " 'and it': 8993,\n",
       " 'it seems': 69773,\n",
       " 'seems like': 107102,\n",
       " 'like that': 75887,\n",
       " 'that û_': 117861,\n",
       " 'in record hurricane': 65855,\n",
       " 'record hurricane drought': 101593,\n",
       " 'hurricane drought the': 63409,\n",
       " 'drought the united': 39808,\n",
       " 'the united states': 120942,\n",
       " 'united states hasn': 129577,\n",
       " 'states hasn been': 112948,\n",
       " 'hasn been hit': 55201,\n",
       " 'been hit by': 16163,\n",
       " 'hit by major': 58135,\n",
       " ...}"
      ]
     },
     "execution_count": 105,
     "metadata": {},
     "output_type": "execute_result"
    }
   ],
   "source": [
    "veczr.vocabulary_"
   ]
  },
  {
   "cell_type": "code",
   "execution_count": 106,
   "metadata": {},
   "outputs": [],
   "source": [
    "val_ngram_doc = veczr.transform(X_test)"
   ]
  },
  {
   "cell_type": "code",
   "execution_count": 107,
   "metadata": {},
   "outputs": [],
   "source": [
    "voc = veczr.get_feature_names()"
   ]
  },
  {
   "cell_type": "code",
   "execution_count": 110,
   "metadata": {},
   "outputs": [
    {
     "data": {
      "text/plain": [
       "['angry after odeon',\n",
       " 'angry and',\n",
       " 'angry and critical',\n",
       " 'angry god',\n",
       " 'angry god who',\n",
       " 'angry http',\n",
       " 'angry http co',\n",
       " 'angry internally',\n",
       " 'angry internally displaced',\n",
       " 'angry mad']"
      ]
     },
     "execution_count": 110,
     "metadata": {},
     "output_type": "execute_result"
    }
   ],
   "source": [
    "voc[10000:10010]"
   ]
  },
  {
   "cell_type": "markdown",
   "metadata": {},
   "source": [
    "### Logistic regression using ngrams from CountVectorizer"
   ]
  },
  {
   "cell_type": "code",
   "execution_count": 111,
   "metadata": {},
   "outputs": [
    {
     "name": "stderr",
     "output_type": "stream",
     "text": [
      "C:\\Users\\edumu\\Anaconda3\\lib\\site-packages\\sklearn\\linear_model\\logistic.py:432: FutureWarning: Default solver will be changed to 'lbfgs' in 0.22. Specify a solver to silence this warning.\n",
      "  FutureWarning)\n"
     ]
    },
    {
     "data": {
      "text/plain": [
       "0.8003939592908733"
      ]
     },
     "execution_count": 111,
     "metadata": {},
     "output_type": "execute_result"
    }
   ],
   "source": [
    "m = LogisticRegression(C=0.1, dual=True)\n",
    "m.fit(train_ngram_doc, y_train);\n",
    "\n",
    "preds = m.predict(val_ngram_doc)\n",
    "(preds.T==y_test).mean()"
   ]
  },
  {
   "cell_type": "markdown",
   "metadata": {},
   "source": [
    "For Binarized Naive Bayes"
   ]
  },
  {
   "cell_type": "code",
   "execution_count": 112,
   "metadata": {},
   "outputs": [
    {
     "data": {
      "text/plain": [
       "0.7977675640183848"
      ]
     },
     "execution_count": 112,
     "metadata": {},
     "output_type": "execute_result"
    }
   ],
   "source": [
    "m = LogisticRegression(C=0.1, dual=True)\n",
    "m.fit(train_ngram_doc.sign(), y_train);\n",
    "\n",
    "preds = m.predict(val_ngram_doc.sign())\n",
    "(preds.T==y_test).mean()"
   ]
  },
  {
   "cell_type": "markdown",
   "metadata": {},
   "source": [
    "### Logistic regression using my ngrams "
   ]
  },
  {
   "cell_type": "code",
   "execution_count": 113,
   "metadata": {},
   "outputs": [
    {
     "name": "stderr",
     "output_type": "stream",
     "text": [
      "C:\\Users\\edumu\\Anaconda3\\lib\\site-packages\\sklearn\\svm\\base.py:929: ConvergenceWarning: Liblinear failed to converge, increase the number of iterations.\n",
      "  \"the number of iterations.\", ConvergenceWarning)\n"
     ]
    },
    {
     "data": {
      "text/plain": [
       "LogisticRegression(C=0.0001, class_weight=None, dual=True, fit_intercept=True,\n",
       "                   intercept_scaling=1, l1_ratio=None, max_iter=50000,\n",
       "                   multi_class='warn', n_jobs=None, penalty='l2',\n",
       "                   random_state=None, solver='warn', tol=0.0001, verbose=0,\n",
       "                   warm_start=False)"
      ]
     },
     "execution_count": 113,
     "metadata": {},
     "output_type": "execute_result"
    }
   ],
   "source": [
    "m2 = LogisticRegression(C=0.0001, dual=True, max_iter=50000)\n",
    "m2.fit(train_ngram_doc_matrix, y_train)"
   ]
  },
  {
   "cell_type": "code",
   "execution_count": 114,
   "metadata": {},
   "outputs": [
    {
     "data": {
      "text/plain": [
       "0.41825344714379514"
      ]
     },
     "execution_count": 114,
     "metadata": {},
     "output_type": "execute_result"
    }
   ],
   "source": [
    "preds = m2.predict(valid_ngram_doc_matrix)\n",
    "(preds.T==y_test).mean()"
   ]
  },
  {
   "cell_type": "code",
   "execution_count": null,
   "metadata": {},
   "outputs": [],
   "source": []
  }
 ],
 "metadata": {
  "kernelspec": {
   "display_name": "Python 3",
   "language": "python",
   "name": "python3"
  },
  "language_info": {
   "codemirror_mode": {
    "name": "ipython",
    "version": 3
   },
   "file_extension": ".py",
   "mimetype": "text/x-python",
   "name": "python",
   "nbconvert_exporter": "python",
   "pygments_lexer": "ipython3",
   "version": "3.6.7"
  }
 },
 "nbformat": 4,
 "nbformat_minor": 2
}
