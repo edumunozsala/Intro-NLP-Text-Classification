{
 "cells": [
  {
   "cell_type": "markdown",
   "metadata": {},
   "source": [
    "# Introduction to NLP: Traditional approaches\n",
    "# Article spinner using n-grams\n",
    "\n",
    "- **Whats an article spinner**\n",
    "\n",
    "\n",
    "*Article spinning is a writing technique used in search engine optimization (SEO), and other applications, which creates what appears to be new content from what already exists. Content spinning works by replacing specific words, phrases, sentences, or even entire paragraphs with any number of alternate versions to provide a slightly different variation with each spin - also known as Rogeting. This process can be completely automated or written manually as many times as needed. Early content produced through automated methods often resulted in articles which were hard or even impossible to read. However, as article spinning techniques were refined they became more sophisticated, and can now result in perfectly readable articles which appear original.*\n",
    "\n",
    "\n",
    "- **How are we going to solve this problem** \n",
    "Describe the problem, how are we using trigrams,\n",
    "\n",
    "This sentiment dataset was used in the paper: John Blitzer, Mark Dredze, Fernando Pereira. Biographies, Bollywood, Boom-boxes and Blenders: **Domain Adaptation for Sentiment Classification. Association of Computational Linguistics (ACL), 2007**. [PDF]\n",
    "Link to datasource: http://www.cs.jhu.edu/~mdredze/datasets/sentiment/index2.html\n",
    "\n",
    "Link to code: https://github.com/lazyprogrammer/machine_learning_examples/blob/master/nlp_class/article_spinner.py\n",
    "Link to blog post or aditional readings:\n",
    "- Some links about n-grams\n"
   ]
  },
  {
   "cell_type": "markdown",
   "metadata": {},
   "source": [
    "### Importing the libraries"
   ]
  },
  {
   "cell_type": "code",
   "execution_count": 30,
   "metadata": {},
   "outputs": [
    {
     "name": "stderr",
     "output_type": "stream",
     "text": [
      "[nltk_data] Downloading package punkt to\n",
      "[nltk_data]     C:\\Users\\edumu\\AppData\\Roaming\\nltk_data...\n",
      "[nltk_data]   Package punkt is already up-to-date!\n"
     ]
    },
    {
     "data": {
      "text/plain": [
       "True"
      ]
     },
     "execution_count": 30,
     "metadata": {},
     "output_type": "execute_result"
    }
   ],
   "source": [
    "import pandas as pd\n",
    "import numpy as np\n",
    "import os\n",
    "import random\n",
    "\n",
    "from bs4 import BeautifulSoup\n",
    "import nltk\n",
    "# Downloading some nltk resources, just once\n",
    "nltk.download('punkt')\n"
   ]
  },
  {
   "cell_type": "markdown",
   "metadata": {},
   "source": [
    "We set the variables for data location"
   ]
  },
  {
   "cell_type": "code",
   "execution_count": 6,
   "metadata": {},
   "outputs": [],
   "source": [
    "# Global parameters\n",
    "#root folder\n",
    "root_folder='.'\n",
    "#data_folder='.'\n",
    "data_folder_name='.'\n",
    "data_filename='unlabeled.review'\n",
    "# Variable for data directory\n",
    "DATA_PATH = os.path.abspath(os.path.join(root_folder, data_folder_name))\n",
    "\n",
    "# Both train and test set are in the root data directory\n",
    "train_path = DATA_PATH\n",
    "#test_path = DATA_PATH\n",
    "\n",
    "#Relevant columns\n",
    "TEXT_COLUMN = 'text'\n",
    "TARGET_COLUMN = 'target'\n"
   ]
  },
  {
   "cell_type": "markdown",
   "metadata": {},
   "source": [
    "### Loading the dataset"
   ]
  },
  {
   "cell_type": "code",
   "execution_count": 8,
   "metadata": {},
   "outputs": [],
   "source": [
    "# load the reviews\n",
    "reviews = BeautifulSoup(open(train_path+'\\\\'+data_filename).read())\n",
    "reviews = reviews.findAll('review_text')"
   ]
  },
  {
   "cell_type": "code",
   "execution_count": 10,
   "metadata": {},
   "outputs": [
    {
     "data": {
      "text/plain": [
       "bs4.element.ResultSet"
      ]
     },
     "execution_count": 10,
     "metadata": {},
     "output_type": "execute_result"
    }
   ],
   "source": [
    "type(reviews)"
   ]
  },
  {
   "cell_type": "markdown",
   "metadata": {},
   "source": [
    "## Define and create N-grams and their probabilities\n",
    "\n",
    "- **What is a n-gram** In this case a trigram and how it will be create x-1, x, x+1\n",
    "\n",
    "### ngrams\n",
    "An n-gram is a contiguous sequence of n items (where the items can be characters, syllables, or words). A 1-gram is a unigram, a 2-gram is a bigram, and a 3-gram is a trigram.\n",
    "\n",
    "Here, we are referring to sequences of words. So examples of bigrams include \"the dog\", \"said that\", and \"can't you\".\n",
    "\n",
    "- **What are the probabilities of a trigram** Markov assumptions: pros and cons\n",
    "\n",
    "The assumption that the probability of a word depends only on the previous word is called a Markov assumption. Markov models are the class of probabilistic models that assume we can predict the probability of some future unit without looking too\n",
    "far into the past. We can generalize the bigram (which looks one word into the past) n-gram to the trigram (which looks two words into the past) and thus to the n-gram (which looks n−1 words into the past).\n",
    "\n",
    "Thus, the general equation for this n-gram approximation to the conditional probability of the next word in a sequence is:\n",
    "\n",
    "$P(W_n|W^{n-1}_1) \\to P(W_n|W^{n-1}_{n-N-1})$\n"
   ]
  },
  {
   "cell_type": "code",
   "execution_count": 24,
   "metadata": {},
   "outputs": [],
   "source": [
    "# extract trigrams and insert into dictionary\n",
    "# (w1, w3) is the key, [ w2 ] are the values\n",
    "def my_trigrams(reviews):\n",
    "    trigrams = {}\n",
    "    for review in reviews:\n",
    "        s = review.text.lower()\n",
    "        # ANY OTHER DATA PREPROCESSING BEFORE TOKENIZE\n",
    "        tokens = nltk.tokenize.word_tokenize(s)\n",
    "        for i in range(len(tokens) - 2):\n",
    "            k = (tokens[i], tokens[i+2])\n",
    "            if k not in trigrams:\n",
    "                trigrams[k] = []\n",
    "            trigrams[k].append(tokens[i+1])\n",
    "\n",
    "    return trigrams\n",
    "\n",
    "# Cerate the probability vector of the trigrams\n",
    "def trigram_proba(trigrams):\n",
    "    trigram_probabilities = {}\n",
    "    for k, words in trigrams.items():\n",
    "        # create a dictionary of word -> count\n",
    "        if len(set(words)) > 1:\n",
    "            # only do this when there are different possibilities for a middle word\n",
    "            d = {}\n",
    "            n = 0\n",
    "            for w in words:\n",
    "                if w not in d:\n",
    "                    d[w] = 0\n",
    "                d[w] += 1\n",
    "                n += 1\n",
    "            for w, c in d.items():\n",
    "                d[w] = float(c) / n\n",
    "            trigram_probabilities[k] = d\n",
    "            \n",
    "    return trigram_probabilities"
   ]
  },
  {
   "cell_type": "markdown",
   "metadata": {},
   "source": [
    "Using the previuos defined function we can extract the trigrams and its probabilities:"
   ]
  },
  {
   "cell_type": "code",
   "execution_count": 17,
   "metadata": {},
   "outputs": [],
   "source": [
    "tgrams=my_trigrams(reviews)\n",
    "tgrams_probs = trigram_proba(tgrams)\n",
    "print('Trigrams:',len(tgrams_probs))"
   ]
  },
  {
   "cell_type": "code",
   "execution_count": 28,
   "metadata": {},
   "outputs": [
    {
     "data": {
      "text/plain": [
       "103105"
      ]
     },
     "execution_count": 28,
     "metadata": {},
     "output_type": "execute_result"
    }
   ],
   "source": [
    "len(tgrams_probs)"
   ]
  },
  {
   "cell_type": "code",
   "execution_count": 29,
   "metadata": {},
   "outputs": [],
   "source": [
    "# Return a token based on a random sample\n",
    "def random_sample(d):\n",
    "    # choose a random sample from dictionary where values are the probabilities\n",
    "    r = random.random()\n",
    "    cumulative = 0\n",
    "    for w, p in d.items():\n",
    "        cumulative += p\n",
    "        if r < cumulative:\n",
    "            return w\n"
   ]
  },
  {
   "cell_type": "code",
   "execution_count": 32,
   "metadata": {},
   "outputs": [
    {
     "name": "stdout",
     "output_type": "stream",
     "text": [
      "Original Text: \n",
      "i purchased the base unit (which includes one handset) and two additional handsets.  they worked okay for about a month or so, then the handset started inexplicably dying.  sometimes the screen went totally blank and you would lose the call or couldn't dial.  othertimes the screen said that i was too far away from the base (even when i was literally right next to the base).  so i called customer service and they said that it sounded like i needed a new battery (after a month!).  i actually read the directions before using the phone and i wasn't even putting the phones on the bases to recharge after every call so that the ni cd batteries wouldn't develop a memory (they don't use the better lithium ion batteries that do not develop a memory).  so this made no sense.  anyway, i went ahead and bought the batteries (for all three handsets) and that didn't solve the problem at all.  i then went ahead and purchased another handset.  again, no problems for a month and then the same issue.  customer service issued remanufactured phones (4 handsets) and in about a month to 8 weeks all were exactly the same.\n",
      "\n",
      "i know i wasn't doing anything wrong to cause this.  i began searching the internet and low and behold i am not alone.  apparently a law firm in new jersey has already filed a class action law suit against panasonic for the entire kx-tg and kx-tc cordless phone lines.  search \"panasonic cordless phone class action\" on google.  it will be the first hit.  as an attorney myself (not in any way affiliated with or even previously aware of the firm that has filed the suit), i can tell you it takes a lot of consumer complaints before a law firm decides to invest its resources in a class action suit as they are very expensive and time consuming.\n",
      "\n",
      "so, i've learned my lesson the hard way (although there wasn't anything i could've done differently at the time of purchase).  hopefully, my experience and research into this can prevent you from having to deal with it in the future.  panasonic was unjustly enriched in distributing such a defective product and not having the corporate decency to at least recall it and replace it with a functioning line or refunding our hard earned dollars.  very disappointing and i certainly will not be purchasing the panasonic brand again\n",
      "\n",
      "Spun:\n",
      "i purchased the base unit ( which includes one handset ) and two additional handsets. they worked okay for about a month or so, then the handset started inexplicably dying. sometimes the zen went totally blank and you'll lose the call or could n't dial. othertimes the screen shows that i was too far away from the base ( even when i was delivered right back to the base ). so i called customer service and they indicated that it sounded like i wanted a new battery ( after a month! ), but actually read the directions before using the phone and i was n't even putting the phones on the bases to recharge after every call so that the ni cd batteries would n't develop a memory ( they do n't use of better lithium ion batteries that do not develop a memory ). so this made no sense. anyway, i went out and bought the batteries ( for all three handsets ) and that did n't solve the format at all. but then went ahead and bought another handset. again, no problems for a month and rock the same issue. customer service issued remanufactured phones ( on handsets ) and in about a month to 8 weeks all were exactly the same. i know i was n't doing anything negative to cause this set i began searching the internet and low and whenever i would not alone. apparently a law firm in new jersey has already filed a class action law suit against panasonic for the entire collection and kx-tc cordless phone lines. very `` panasonic cordless phone class action'' on google. it will be the first hit. after an attorney myself ( great in any way - with or even previously aware of the firm that has filed the suit ), i can tell you it takes a lot of consumer complaints before a law firm'' to invest its paces in its class action suit as they are very expensive and time consuming. so, i've learned my lesson the hard way ( although there was n't anything i could've done differently at the time of purchase ). hopefully, or laptop and research into this can tell you from having to deal because it in the future. panasonic was unjustly enriched in distributing such a great, and not having the corporate decency to at least recall it will replace it with a functioning line or refunding our hard earned dollars. very disappointing and i certainly will not be purchasing the particular brand again\n"
     ]
    }
   ],
   "source": [
    "# Select a random review\n",
    "review = random.choice(reviews)\n",
    "# Transform to lowercase\n",
    "s = review.text.lower()\n",
    "print(\"Original Text:\", s)\n",
    "# Extract the tokens\n",
    "tokens = nltk.tokenize.word_tokenize(s)\n",
    "for i in range(len(tokens) - 2):\n",
    "    if random.random() < 0.2: # 20% chance of replacement\n",
    "        # Extract the elements in the trigrams\n",
    "        k = (tokens[i], tokens[i+2])\n",
    "        if k in tgrams_probs:\n",
    "            # Get a sample word from based on the trigrams probabilities\n",
    "            w = random_sample(tgrams_probs[k])\n",
    "            tokens[i+1] = w\n",
    "print(\"Spun:\")\n",
    "print(\" \".join(tokens).replace(\" .\", \".\").replace(\" '\", \"'\").replace(\" ,\", \",\").replace(\"$ \", \"$\").replace(\" !\", \"!\"))\n"
   ]
  },
  {
   "cell_type": "markdown",
   "metadata": {},
   "source": [
    "- Show a good result: \n",
    "- Original: othertimes the screen said that i was too far away\n",
    "- New:  othertimes the screen shows that i was too far away\n",
    "- Original: i went ahead and bought the batteries\n",
    "- New: i went out and bought the batteries\n",
    "\n",
    "But some others are completely wrong\n",
    "Original: i know i wasn't doing anything wrong to cause this.\n",
    "New: i know i was n't doing anything negative to cause this set\n",
    "**REMOVE PUNCTUATION**"
   ]
  }
 ],
 "metadata": {
  "kernelspec": {
   "display_name": "Python 3",
   "language": "python",
   "name": "python3"
  },
  "language_info": {
   "codemirror_mode": {
    "name": "ipython",
    "version": 3
   },
   "file_extension": ".py",
   "mimetype": "text/x-python",
   "name": "python",
   "nbconvert_exporter": "python",
   "pygments_lexer": "ipython3",
   "version": "3.6.7"
  }
 },
 "nbformat": 4,
 "nbformat_minor": 2
}
